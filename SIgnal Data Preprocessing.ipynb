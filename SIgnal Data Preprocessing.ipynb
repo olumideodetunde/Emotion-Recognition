{
 "cells": [
  {
   "cell_type": "code",
   "execution_count": 48,
   "id": "710b177b",
   "metadata": {},
   "outputs": [],
   "source": [
    "import pandas as pd\n",
    "from datetime import datetime\n",
    "from glom import glom"
   ]
  },
  {
   "cell_type": "markdown",
   "id": "95b8a845",
   "metadata": {},
   "source": [
    "### Heart Rate Signal "
   ]
  },
  {
   "cell_type": "code",
   "execution_count": 44,
   "id": "fb9e9870",
   "metadata": {},
   "outputs": [
    {
     "name": "stdout",
     "output_type": "stream",
     "text": [
      "<class 'pandas.core.frame.DataFrame'>\n"
     ]
    },
    {
     "data": {
      "text/html": [
       "<div>\n",
       "<style scoped>\n",
       "    .dataframe tbody tr th:only-of-type {\n",
       "        vertical-align: middle;\n",
       "    }\n",
       "\n",
       "    .dataframe tbody tr th {\n",
       "        vertical-align: top;\n",
       "    }\n",
       "\n",
       "    .dataframe thead th {\n",
       "        text-align: right;\n",
       "    }\n",
       "</style>\n",
       "<table border=\"1\" class=\"dataframe\">\n",
       "  <thead>\n",
       "    <tr style=\"text-align: right;\">\n",
       "      <th></th>\n",
       "      <th>datetime</th>\n",
       "      <th>heartrate</th>\n",
       "      <th>confidence</th>\n",
       "    </tr>\n",
       "  </thead>\n",
       "  <tbody>\n",
       "    <tr>\n",
       "      <th>0</th>\n",
       "      <td>2022-06-14 02:54:14</td>\n",
       "      <td>72</td>\n",
       "      <td>0</td>\n",
       "    </tr>\n",
       "    <tr>\n",
       "      <th>1</th>\n",
       "      <td>2022-06-14 02:54:19</td>\n",
       "      <td>74</td>\n",
       "      <td>0</td>\n",
       "    </tr>\n",
       "    <tr>\n",
       "      <th>2</th>\n",
       "      <td>2022-06-14 02:54:24</td>\n",
       "      <td>73</td>\n",
       "      <td>0</td>\n",
       "    </tr>\n",
       "    <tr>\n",
       "      <th>3</th>\n",
       "      <td>2022-06-14 02:54:29</td>\n",
       "      <td>64</td>\n",
       "      <td>1</td>\n",
       "    </tr>\n",
       "    <tr>\n",
       "      <th>4</th>\n",
       "      <td>2022-06-14 02:54:34</td>\n",
       "      <td>62</td>\n",
       "      <td>1</td>\n",
       "    </tr>\n",
       "  </tbody>\n",
       "</table>\n",
       "</div>"
      ],
      "text/plain": [
       "             datetime  heartrate  confidence\n",
       "0 2022-06-14 02:54:14         72           0\n",
       "1 2022-06-14 02:54:19         74           0\n",
       "2 2022-06-14 02:54:24         73           0\n",
       "3 2022-06-14 02:54:29         64           1\n",
       "4 2022-06-14 02:54:34         62           1"
      ]
     },
     "execution_count": 44,
     "metadata": {},
     "output_type": "execute_result"
    }
   ],
   "source": [
    "df = pd.read_json('/Users/olumide/Documents/Dissertation/Sound Stimuli version 1/MyFitbitData version 1/OlumideOdetunde/Physical Activity/heart_rate-2022-06-14.json') #load data\n",
    "\n",
    "# extract each value\n",
    "df_hr = df['value'].apply(lambda row:glom(row,\"bpm\"))\n",
    "df_confidence = df[\"value\"].apply(lambda row:glom(row, \"confidence\"))\n",
    "df_datetime = df[\"dateTime\"]\n",
    "\n",
    "#combine extracted values\n",
    "df_combined = pd.concat([df_datetime, df_hr, df_confidence], axis=1, ignore_index=True) \n",
    "df_combined.columns = [\"datetime\",\"heartrate\",\"confidence\"] #rename column\n",
    "\n",
    "print(type(df_combined))\n",
    "df_combined.head()"
   ]
  },
  {
   "cell_type": "markdown",
   "id": "05dc604f",
   "metadata": {},
   "source": [
    "### Skin Temperature Signal"
   ]
  },
  {
   "cell_type": "code",
   "execution_count": null,
   "id": "506651fc",
   "metadata": {},
   "outputs": [],
   "source": [
    "df_skt = pd.read_csv(\"/Users/olumide/Documents/Dissertation/Sound Stimuli version 1/MyFitbitData version 1/OlumideOdetunde/Sleep/Wrist Temperature - 2022-06-15.csv\")\n",
    "df_skt = datetime.strptime(df_skt['recorded_time'], \"%Y-%m-%dT%H:%M:%S%z\")\n",
    "df_skt.head()"
   ]
  },
  {
   "cell_type": "markdown",
   "id": "c2bcfa98",
   "metadata": {},
   "source": [
    "### Blood Oxygen variation"
   ]
  },
  {
   "cell_type": "code",
   "execution_count": 54,
   "id": "379f434d",
   "metadata": {},
   "outputs": [
    {
     "data": {
      "text/html": [
       "<div>\n",
       "<style scoped>\n",
       "    .dataframe tbody tr th:only-of-type {\n",
       "        vertical-align: middle;\n",
       "    }\n",
       "\n",
       "    .dataframe tbody tr th {\n",
       "        vertical-align: top;\n",
       "    }\n",
       "\n",
       "    .dataframe thead th {\n",
       "        text-align: right;\n",
       "    }\n",
       "</style>\n",
       "<table border=\"1\" class=\"dataframe\">\n",
       "  <thead>\n",
       "    <tr style=\"text-align: right;\">\n",
       "      <th></th>\n",
       "      <th>timestamp</th>\n",
       "      <th>Infrared to Red Signal Ratio</th>\n",
       "    </tr>\n",
       "  </thead>\n",
       "  <tbody>\n",
       "    <tr>\n",
       "      <th>779</th>\n",
       "      <td>06/14/22 23:55:47</td>\n",
       "      <td>0</td>\n",
       "    </tr>\n",
       "    <tr>\n",
       "      <th>780</th>\n",
       "      <td>06/14/22 23:56:47</td>\n",
       "      <td>0</td>\n",
       "    </tr>\n",
       "    <tr>\n",
       "      <th>781</th>\n",
       "      <td>06/14/22 23:57:47</td>\n",
       "      <td>0</td>\n",
       "    </tr>\n",
       "    <tr>\n",
       "      <th>782</th>\n",
       "      <td>06/14/22 23:58:47</td>\n",
       "      <td>0</td>\n",
       "    </tr>\n",
       "    <tr>\n",
       "      <th>783</th>\n",
       "      <td>06/14/22 23:59:47</td>\n",
       "      <td>0</td>\n",
       "    </tr>\n",
       "  </tbody>\n",
       "</table>\n",
       "</div>"
      ],
      "text/plain": [
       "             timestamp  Infrared to Red Signal Ratio\n",
       "779  06/14/22 23:55:47                             0\n",
       "780  06/14/22 23:56:47                             0\n",
       "781  06/14/22 23:57:47                             0\n",
       "782  06/14/22 23:58:47                             0\n",
       "783  06/14/22 23:59:47                             0"
      ]
     },
     "execution_count": 54,
     "metadata": {},
     "output_type": "execute_result"
    }
   ],
   "source": [
    "df_bo = pd.read_csv(\"/Users/olumide/Documents/Dissertation/Sound Stimuli version 1/MyFitbitData version 1/OlumideOdetunde/Other/estimated_oxygen_variation-2022-06-14.csv\")\n",
    "df_bo.tail()"
   ]
  },
  {
   "cell_type": "markdown",
   "id": "a335a45a",
   "metadata": {},
   "source": [
    "### Load Data Labels"
   ]
  },
  {
   "cell_type": "code",
   "execution_count": 43,
   "id": "7c137864",
   "metadata": {},
   "outputs": [
    {
     "data": {
      "text/html": [
       "<div>\n",
       "<style scoped>\n",
       "    .dataframe tbody tr th:only-of-type {\n",
       "        vertical-align: middle;\n",
       "    }\n",
       "\n",
       "    .dataframe tbody tr th {\n",
       "        vertical-align: top;\n",
       "    }\n",
       "\n",
       "    .dataframe thead th {\n",
       "        text-align: right;\n",
       "    }\n",
       "</style>\n",
       "<table border=\"1\" class=\"dataframe\">\n",
       "  <thead>\n",
       "    <tr style=\"text-align: right;\">\n",
       "      <th></th>\n",
       "      <th>SoundID</th>\n",
       "      <th>Starttime</th>\n",
       "      <th>Emotion</th>\n",
       "      <th>Emotionrating</th>\n",
       "      <th>Endtime</th>\n",
       "      <th>UserID</th>\n",
       "      <th>Soundgroup</th>\n",
       "      <th>Soundgroupselection</th>\n",
       "    </tr>\n",
       "  </thead>\n",
       "  <tbody>\n",
       "    <tr>\n",
       "      <th>0</th>\n",
       "      <td>0319_2</td>\n",
       "      <td>15/06/2022 18:51:47</td>\n",
       "      <td>Fear</td>\n",
       "      <td>5</td>\n",
       "      <td>15/06/2022 18:51:58</td>\n",
       "      <td>1</td>\n",
       "      <td>Practice</td>\n",
       "      <td>Practice Sound</td>\n",
       "    </tr>\n",
       "    <tr>\n",
       "      <th>1</th>\n",
       "      <td>0617_2</td>\n",
       "      <td>15/06/2022 18:52:00</td>\n",
       "      <td>Fear</td>\n",
       "      <td>4</td>\n",
       "      <td>15/06/2022 18:52:14</td>\n",
       "      <td>1</td>\n",
       "      <td>Practice</td>\n",
       "      <td>Practice Sound</td>\n",
       "    </tr>\n",
       "    <tr>\n",
       "      <th>2</th>\n",
       "      <td>0124_2</td>\n",
       "      <td>15/06/2022 18:52:16</td>\n",
       "      <td>Happiness</td>\n",
       "      <td>4</td>\n",
       "      <td>15/06/2022 18:52:32</td>\n",
       "      <td>1</td>\n",
       "      <td>Practice</td>\n",
       "      <td>Practice Sound</td>\n",
       "    </tr>\n",
       "    <tr>\n",
       "      <th>3</th>\n",
       "      <td>0533_2</td>\n",
       "      <td>15/06/2022 18:52:35</td>\n",
       "      <td>Sadness</td>\n",
       "      <td>4</td>\n",
       "      <td>15/06/2022 18:52:49</td>\n",
       "      <td>1</td>\n",
       "      <td>Practice</td>\n",
       "      <td>Practice Sound</td>\n",
       "    </tr>\n",
       "    <tr>\n",
       "      <th>4</th>\n",
       "      <td>0194_2</td>\n",
       "      <td>15/06/2022 18:52:50</td>\n",
       "      <td>Fear</td>\n",
       "      <td>5</td>\n",
       "      <td>15/06/2022 18:53:07</td>\n",
       "      <td>1</td>\n",
       "      <td>Practice</td>\n",
       "      <td>Practice Sound</td>\n",
       "    </tr>\n",
       "  </tbody>\n",
       "</table>\n",
       "</div>"
      ],
      "text/plain": [
       "  SoundID            Starttime    Emotion  Emotionrating              Endtime  \\\n",
       "0  0319_2  15/06/2022 18:51:47       Fear              5  15/06/2022 18:51:58   \n",
       "1  0617_2  15/06/2022 18:52:00       Fear              4  15/06/2022 18:52:14   \n",
       "2  0124_2  15/06/2022 18:52:16  Happiness              4  15/06/2022 18:52:32   \n",
       "3  0533_2  15/06/2022 18:52:35    Sadness              4  15/06/2022 18:52:49   \n",
       "4  0194_2  15/06/2022 18:52:50       Fear              5  15/06/2022 18:53:07   \n",
       "\n",
       "   UserID Soundgroup Soundgroupselection  \n",
       "0       1   Practice      Practice Sound  \n",
       "1       1   Practice      Practice Sound  \n",
       "2       1   Practice      Practice Sound  \n",
       "3       1   Practice      Practice Sound  \n",
       "4       1   Practice      Practice Sound  "
      ]
     },
     "execution_count": 43,
     "metadata": {},
     "output_type": "execute_result"
    }
   ],
   "source": [
    "df_datalabel = pd.read_excel(\"/Users/olumide/Documents/Dissertation/Sound Stimuli version 1/Excel Database.xlsx\")\n",
    "df_datalabel.head()"
   ]
  }
 ],
 "metadata": {
  "kernelspec": {
   "display_name": "Python 3.9.13 ('venv': venv)",
   "language": "python",
   "name": "python3"
  },
  "language_info": {
   "codemirror_mode": {
    "name": "ipython",
    "version": 3
   },
   "file_extension": ".py",
   "mimetype": "text/x-python",
   "name": "python",
   "nbconvert_exporter": "python",
   "pygments_lexer": "ipython3",
   "version": "3.9.13"
  },
  "vscode": {
   "interpreter": {
    "hash": "e0d3ec8188b30b2a3885d1dbc6be1fa82040225c9e184423560200bff8d47476"
   }
  }
 },
 "nbformat": 4,
 "nbformat_minor": 5
}
