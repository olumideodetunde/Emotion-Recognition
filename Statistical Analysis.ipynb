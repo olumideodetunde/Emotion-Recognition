{
 "cells": [
  {
   "cell_type": "markdown",
   "metadata": {},
   "source": [
    "## Exploratory Data Analysis and Visualization"
   ]
  },
  {
   "cell_type": "markdown",
   "metadata": {},
   "source": [
    "## Libraries\n"
   ]
  },
  {
   "cell_type": "code",
   "execution_count": 1,
   "metadata": {},
   "outputs": [],
   "source": [
    "import math\n",
    "import numpy as np\n",
    "import pandas as pd\n",
    "import seaborn as sns\n",
    "import scipy.stats as st\n",
    "import statsmodels.api as sm\n",
    "import matplotlib.pyplot as plt\n",
    "import statsmodels.stats.proportion as proportion\n",
    "from scipy.stats import anderson\n",
    "from scipy.stats import shapiro\n",
    "from scipy.stats import mannwhitneyu\n",
    "from scipy.stats import wilcoxon\n",
    "from scipy.stats import normaltest\n",
    "from statsmodels.formula.api import ols\n",
    "from statsmodels.graphics.gofplots import qqplot\n",
    "from statsmodels.stats.weightstats import ztest as ztest\n",
    "from scipy.stats import ttest_ind, ttest_rel, f_oneway, kstest, shapiro, wilcoxon\n",
    "from statsmodels.stats.proportion import proportions_ztest\n",
    "\n",
    "%matplotlib inline"
   ]
  },
  {
   "cell_type": "markdown",
   "metadata": {},
   "source": [
    "## Load research dataset"
   ]
  },
  {
   "cell_type": "code",
   "execution_count": 2,
   "metadata": {},
   "outputs": [],
   "source": [
    "\n",
    "def load_rename_data (filename):\n",
    "    rename_list = {\"Unnamed: 0_level_0Unnamed: 0_level_1\":\"soundID\",\"Emotionratingmean\":\"emotionrating\",\n",
    "                    \"Emotionmax\":\"emotion\",\"datetimemax\":\"datetime\",\"Soundgroupmax\":\"soundgroup\"}\n",
    "    df = pd.read_csv(filename, header=[0,1])\n",
    "    df.columns = [''.join(col) for col in df.columns]\n",
    "    df.rename(columns = rename_list, inplace=True)\n",
    "    df.drop([0], axis = 0, inplace=True)\n",
    "    df.dropna(axis=0, inplace=True)\n",
    "    print(\"Missing Values\\n\", df.isnull().sum())\n",
    "    return df\n",
    "\n"
   ]
  },
  {
   "cell_type": "markdown",
   "metadata": {},
   "source": [
    "Instance"
   ]
  },
  {
   "cell_type": "code",
   "execution_count": 3,
   "metadata": {},
   "outputs": [
    {
     "name": "stdout",
     "output_type": "stream",
     "text": [
      "Missing Values\n",
      " soundID                 0\n",
      "datetime                0\n",
      "emotionrating           0\n",
      "emotion                 0\n",
      "soundgroup              0\n",
      "heart_ratemean          0\n",
      "heart_ratestd           0\n",
      "skin_tempmean           0\n",
      "skin_tempstd            0\n",
      "est_02_variationmean    0\n",
      "est_02_variationstd     0\n",
      "dtype: int64\n"
     ]
    },
    {
     "data": {
      "text/html": [
       "<div>\n",
       "<style scoped>\n",
       "    .dataframe tbody tr th:only-of-type {\n",
       "        vertical-align: middle;\n",
       "    }\n",
       "\n",
       "    .dataframe tbody tr th {\n",
       "        vertical-align: top;\n",
       "    }\n",
       "\n",
       "    .dataframe thead th {\n",
       "        text-align: right;\n",
       "    }\n",
       "</style>\n",
       "<table border=\"1\" class=\"dataframe\">\n",
       "  <thead>\n",
       "    <tr style=\"text-align: right;\">\n",
       "      <th></th>\n",
       "      <th>soundID</th>\n",
       "      <th>datetime</th>\n",
       "      <th>emotionrating</th>\n",
       "      <th>emotion</th>\n",
       "      <th>soundgroup</th>\n",
       "      <th>heart_ratemean</th>\n",
       "      <th>heart_ratestd</th>\n",
       "      <th>skin_tempmean</th>\n",
       "      <th>skin_tempstd</th>\n",
       "      <th>est_02_variationmean</th>\n",
       "      <th>est_02_variationstd</th>\n",
       "    </tr>\n",
       "  </thead>\n",
       "  <tbody>\n",
       "    <tr>\n",
       "      <th>1</th>\n",
       "      <td>0085_2</td>\n",
       "      <td>2022-06-15 19:49:53</td>\n",
       "      <td>1.0</td>\n",
       "      <td>Sadness</td>\n",
       "      <td>Transport</td>\n",
       "      <td>102.500000</td>\n",
       "      <td>0.707107</td>\n",
       "      <td>1.539936</td>\n",
       "      <td>0.000000</td>\n",
       "      <td>0.0</td>\n",
       "      <td>0.0</td>\n",
       "    </tr>\n",
       "    <tr>\n",
       "      <th>5</th>\n",
       "      <td>0149_2</td>\n",
       "      <td>2022-06-15 19:27:09</td>\n",
       "      <td>4.0</td>\n",
       "      <td>Fear</td>\n",
       "      <td>Nature</td>\n",
       "      <td>81.000000</td>\n",
       "      <td>1.414214</td>\n",
       "      <td>1.614936</td>\n",
       "      <td>0.007071</td>\n",
       "      <td>0.0</td>\n",
       "      <td>0.0</td>\n",
       "    </tr>\n",
       "    <tr>\n",
       "      <th>7</th>\n",
       "      <td>0166_2</td>\n",
       "      <td>2022-06-15 19:45:41</td>\n",
       "      <td>1.0</td>\n",
       "      <td>Sadness</td>\n",
       "      <td>Transport</td>\n",
       "      <td>95.666667</td>\n",
       "      <td>2.081666</td>\n",
       "      <td>1.524936</td>\n",
       "      <td>0.000000</td>\n",
       "      <td>24.0</td>\n",
       "      <td>0.0</td>\n",
       "    </tr>\n",
       "    <tr>\n",
       "      <th>8</th>\n",
       "      <td>0167_2</td>\n",
       "      <td>2022-06-15 19:49:29</td>\n",
       "      <td>3.0</td>\n",
       "      <td>Fear</td>\n",
       "      <td>Transport</td>\n",
       "      <td>98.500000</td>\n",
       "      <td>0.707107</td>\n",
       "      <td>1.539936</td>\n",
       "      <td>0.000000</td>\n",
       "      <td>0.0</td>\n",
       "      <td>0.0</td>\n",
       "    </tr>\n",
       "    <tr>\n",
       "      <th>9</th>\n",
       "      <td>0173_2</td>\n",
       "      <td>2022-06-15 19:54:58</td>\n",
       "      <td>4.0</td>\n",
       "      <td>Sadness</td>\n",
       "      <td>Transport</td>\n",
       "      <td>96.333333</td>\n",
       "      <td>2.081666</td>\n",
       "      <td>1.464936</td>\n",
       "      <td>0.000000</td>\n",
       "      <td>-8.0</td>\n",
       "      <td>0.0</td>\n",
       "    </tr>\n",
       "  </tbody>\n",
       "</table>\n",
       "</div>"
      ],
      "text/plain": [
       "  soundID             datetime  emotionrating  emotion soundgroup  \\\n",
       "1  0085_2  2022-06-15 19:49:53            1.0  Sadness  Transport   \n",
       "5  0149_2  2022-06-15 19:27:09            4.0     Fear     Nature   \n",
       "7  0166_2  2022-06-15 19:45:41            1.0  Sadness  Transport   \n",
       "8  0167_2  2022-06-15 19:49:29            3.0     Fear  Transport   \n",
       "9  0173_2  2022-06-15 19:54:58            4.0  Sadness  Transport   \n",
       "\n",
       "   heart_ratemean  heart_ratestd  skin_tempmean  skin_tempstd  \\\n",
       "1      102.500000       0.707107       1.539936      0.000000   \n",
       "5       81.000000       1.414214       1.614936      0.007071   \n",
       "7       95.666667       2.081666       1.524936      0.000000   \n",
       "8       98.500000       0.707107       1.539936      0.000000   \n",
       "9       96.333333       2.081666       1.464936      0.000000   \n",
       "\n",
       "   est_02_variationmean  est_02_variationstd  \n",
       "1                   0.0                  0.0  \n",
       "5                   0.0                  0.0  \n",
       "7                  24.0                  0.0  \n",
       "8                   0.0                  0.0  \n",
       "9                  -8.0                  0.0  "
      ]
     },
     "execution_count": 3,
     "metadata": {},
     "output_type": "execute_result"
    }
   ],
   "source": [
    "df_researchdata = load_rename_data(\"Extracted data 2/df_combinedined_user001_exp003.csv\")\n",
    "df_researchdata.head()"
   ]
  },
  {
   "cell_type": "markdown",
   "metadata": {},
   "source": [
    "##  Dataframe Overview and Grouping"
   ]
  },
  {
   "cell_type": "code",
   "execution_count": 62,
   "metadata": {},
   "outputs": [],
   "source": [
    "\n",
    "def explore_split_data (df):\n",
    "    # print(\"This is the whole dataset summary\")\n",
    "    # print(df.describe())\n",
    "\n",
    "    #divide the data frame into 3 based on emotion experienced\n",
    "    df_fear  = df[(df.emotion == \"Fear\")]\n",
    "    df_sadness = df[(df.emotion == \"Sadness\")]\n",
    "    df_happiness = df[(df.emotion == \"Happiness\")]\n",
    "\n",
    "    # print(\"This is the fear dataframe summary\")\n",
    "    # print(df_fear.describe())\n",
    "    # print(\"This is the sad dataframe summary\")\n",
    "    # print(df_sadness.describe())\n",
    "    # print(\"This is the happy dataframe summary\")\n",
    "    # print(df_happiness.describe())\n",
    "\n",
    "    #divide the dataframe into four based on sound stimuli\n",
    "\n",
    "    df_animal = df[df.soundgroup == \"Animal\"]\n",
    "    df_nature = df[(df.soundgroup == \"Nature\")]\n",
    "    df_transport = df[(df.soundgroup == \"Transport\")]\n",
    "    df_people = df[(df.soundgroup == \"People\")]\n",
    "\n",
    "    # print(\"This is the animal dataframe summary\")\n",
    "    # print (df_animal.describe())\n",
    "    # print(\"This is the nature dataframe summary\")\n",
    "    # print (df_nature.describe())\n",
    "    # print(\"This is the transport dataframe summary\")\n",
    "    # print (df_transport.describe())\n",
    "    # print(\"This is the people dataframe summary\")\n",
    "    # print (df_people.describe())\n",
    "\n",
    "    return df_fear, df_sadness, df_happiness, df_animal, df_nature, df_transport, df_people\n",
    "\n",
    "def create_dflist_name (dfs):\n",
    "\t\tdata_frames = explore_split_data(dfs)\n",
    "\t\tdf_list = [df for df in data_frames]\n",
    "\t\tdf_namelist = []\n",
    "\t\tfor df in df_list:\n",
    "\t\t\tif (df.emotion.values == \"Fear\").all(): \n",
    "\t\t\t\tdf_namelist.append(\"fear\")\n",
    "\t\t\telif(df.emotion.values==\"Sadness\").all(): \n",
    "\t\t\t\tdf_namelist.append(\"sadness\")\n",
    "\t\t\telif(df.emotion.values==\"Happiness\").all():\n",
    "\t\t\t\tdf_namelist.append(\"happiness\")\n",
    "\t\t\telif (df.soundgroup.values==\"Animal\").all(): \n",
    "\t\t\t\tdf_namelist.append(\"animal\")\n",
    "\t\t\telif (df.soundgroup.values==\"Nature\").all(): \n",
    "\t\t\t\tdf_namelist.append(\"nature\")\n",
    "\t\t\telif (df.soundgroup.values==\"People\").all(): \n",
    "\t\t\t\tdf_namelist.append(\"people\")\n",
    "\t\t\telse:\n",
    "\t\t\t\tdf_namelist.append('transport')\n",
    "\t\treturn df_list, df_namelist\n",
    "\n",
    "def create_emotion_df(df):\n",
    "    df_fear  = df[(df.emotion == \"Fear\")]\n",
    "    df_sadness = df[(df.emotion == \"Sadness\")]\n",
    "    df_happiness = df[(df.emotion == \"Happiness\")]\n",
    "    return df_fear,df_sadness,df_happiness\n",
    "\n",
    "def create_soundgrp_df(df):\n",
    "    df_animal = df[df.soundgroup == \"Animal\"]\n",
    "    df_nature = df[(df.soundgroup == \"Nature\")]\n",
    "    df_transport = df[(df.soundgroup == \"Transport\")]\n",
    "    df_people = df[(df.soundgroup == \"People\")]\n",
    "    return df_animal, df_nature,df_transport,df_people\n",
    "\n"
   ]
  },
  {
   "cell_type": "markdown",
   "metadata": {},
   "source": [
    "Instance"
   ]
  },
  {
   "cell_type": "code",
   "execution_count": 20,
   "metadata": {},
   "outputs": [
    {
     "data": {
      "text/plain": [
       "(    soundID             datetime  emotionrating emotion soundgroup  \\\n",
       " 5    0149_2  2022-06-15 19:27:09            4.0    Fear     Nature   \n",
       " 8    0167_2  2022-06-15 19:49:29            3.0    Fear  Transport   \n",
       " 17   0217_2  2022-06-15 19:57:12            7.0    Fear  Transport   \n",
       " 20   0222_2  2022-06-15 19:45:28            2.0    Fear  Transport   \n",
       " 36   0283_2  2022-06-15 19:43:50            2.0    Fear  Transport   \n",
       " 38   0286_2  2022-06-15 19:48:35            4.0    Fear  Transport   \n",
       " 42   0290_2  2022-06-15 19:55:10            3.0    Fear  Transport   \n",
       " 44   0296_2  2022-06-15 19:27:54            5.0    Fear     Nature   \n",
       " 48   0300_2  2022-06-15 19:43:25            2.0    Fear  Transport   \n",
       " 49   0308_2  2022-06-15 19:55:22            4.0    Fear  Transport   \n",
       " 50   0311_2  2022-06-15 19:37:05            1.0    Fear     People   \n",
       " 52   0322_2  2022-06-15 19:42:26            4.0    Fear  Transport   \n",
       " 60   0337_2  2022-06-15 19:30:20            6.0    Fear     Nature   \n",
       " 69   0379_2  2022-06-15 19:49:40            9.0    Fear  Transport   \n",
       " 70   0417_2  2022-06-15 19:46:47            3.0    Fear  Transport   \n",
       " 76   0463_2  2022-06-15 19:26:30            2.0    Fear     Nature   \n",
       " 79   0490_2  2022-06-15 19:34:25            3.0    Fear     People   \n",
       " 90   0603_2  2022-06-15 19:25:36            6.0    Fear     Nature   \n",
       " 105  0706_2  2022-06-15 19:28:07            4.0    Fear     Nature   \n",
       " 109  0726_2  2022-06-15 19:30:07            6.0    Fear     Nature   \n",
       " 112  0740_2  2022-06-15 19:20:19            2.0    Fear     Nature   \n",
       " 114  0753_2  2022-06-15 19:47:02            2.0    Fear  Transport   \n",
       " 118  0778_2  2022-06-15 19:56:45            3.0    Fear  Transport   \n",
       " 122  0802_2  2022-06-15 19:46:20            2.0    Fear  Transport   \n",
       " 125  0810_2  2022-06-15 19:36:23            5.0    Fear     People   \n",
       " 126  0811_2  2022-06-15 19:35:31            5.0    Fear     People   \n",
       " 130  0823_2  2022-06-15 19:43:37            2.0    Fear  Transport   \n",
       " 136  0890_2  2022-06-15 19:35:44            1.0    Fear     People   \n",
       " 137  0897_2  2022-06-15 19:28:21            3.0    Fear     Nature   \n",
       " 146  0931_2  2022-06-15 19:51:43            2.0    Fear  Transport   \n",
       " 149  0939_2  2022-06-15 19:47:28            5.0    Fear  Transport   \n",
       " 153  0972_2  2022-06-15 19:54:34            3.0    Fear  Transport   \n",
       " 157  1004_2  2022-06-15 19:46:34            4.0    Fear  Transport   \n",
       " 160  1039_2  2022-06-15 19:46:05            4.0    Fear  Transport   \n",
       " 165  1063_2  2022-06-15 19:48:59            3.0    Fear  Transport   \n",
       " \n",
       "      heart_ratemean  heart_ratestd  skin_tempmean  skin_tempstd  \\\n",
       " 5         81.000000       1.414214       1.614936      0.007071   \n",
       " 8         98.500000       0.707107       1.539936      0.000000   \n",
       " 17        82.666667       5.131601       1.499936      0.000000   \n",
       " 20        98.333333       0.577350       1.524936      0.000000   \n",
       " 36        96.666667       0.577350       1.514936      0.000000   \n",
       " 38        97.000000       0.000000       1.554936      0.000000   \n",
       " 42        96.000000       1.732051       1.464936      0.000000   \n",
       " 44        92.500000       2.121320       1.619936      0.000000   \n",
       " 48        96.666667       0.577350       1.514936      0.000000   \n",
       " 49        97.000000       1.000000       1.464936      0.000000   \n",
       " 50        93.500000       0.707107       1.572436      0.017678   \n",
       " 52        96.000000       0.000000       1.524936      0.000000   \n",
       " 60       106.500000       0.707107       1.604936      0.000000   \n",
       " 69       100.333333       1.527525       1.539936      0.000000   \n",
       " 70        93.666667       0.577350       1.544936      0.000000   \n",
       " 76        96.000000       3.464102       1.609936      0.000000   \n",
       " 79        99.333333       1.527525       1.574936      0.000000   \n",
       " 90        83.000000       0.000000       1.604936      0.000000   \n",
       " 105       96.333333       2.081666       1.619936      0.000000   \n",
       " 109      105.000000       1.414214       1.612436      0.010607   \n",
       " 112       68.000000       1.732051       1.659936      0.000000   \n",
       " 114       95.333333       1.527525       1.548269      0.005774   \n",
       " 118       78.333333       1.527525       1.489936      0.000000   \n",
       " 122       94.333333       0.577350       1.544936      0.000000   \n",
       " 125       91.000000       2.000000       1.584936      0.000000   \n",
       " 126       97.500000       0.707107       1.594936      0.000000   \n",
       " 130       96.500000       0.707107       1.514936      0.000000   \n",
       " 136       97.333333       0.577350       1.594936      0.000000   \n",
       " 137       96.666667       1.154701       1.619936      0.000000   \n",
       " 146      101.000000       0.000000       1.514936      0.000000   \n",
       " 149       95.333333       1.527525       1.554936      0.000000   \n",
       " 153       97.000000       0.000000       1.464936      0.000000   \n",
       " 157       93.500000       0.707107       1.544936      0.000000   \n",
       " 160       93.000000       0.000000       1.544936      0.000000   \n",
       " 165       98.500000       0.707107       1.554936      0.000000   \n",
       " \n",
       "      est_02_variationmean  est_02_variationstd  \n",
       " 5                0.000000             0.000000  \n",
       " 8                0.000000             0.000000  \n",
       " 17               0.000000             0.000000  \n",
       " 20              24.000000             0.000000  \n",
       " 36               4.000000             0.000000  \n",
       " 38               6.000000             0.000000  \n",
       " 42             -20.666667            10.969655  \n",
       " 44               0.000000             0.000000  \n",
       " 48               4.000000             0.000000  \n",
       " 49             -27.000000             0.000000  \n",
       " 50              -6.500000             9.192388  \n",
       " 52               1.000000             0.000000  \n",
       " 60               0.000000             0.000000  \n",
       " 69               0.000000             0.000000  \n",
       " 70               0.000000             0.000000  \n",
       " 76               0.000000             0.000000  \n",
       " 79              26.000000             0.000000  \n",
       " 90              -4.000000             0.000000  \n",
       " 105              0.000000             0.000000  \n",
       " 109             -6.000000             8.485281  \n",
       " 112             -4.000000             0.000000  \n",
       " 114             -7.000000            12.124356  \n",
       " 118            -12.000000             0.000000  \n",
       " 122              0.000000             0.000000  \n",
       " 125            -13.000000             0.000000  \n",
       " 126             -3.000000             0.000000  \n",
       " 130              4.000000             0.000000  \n",
       " 136             -3.000000             0.000000  \n",
       " 137              0.000000             0.000000  \n",
       " 146              6.000000             0.000000  \n",
       " 149            -21.000000             0.000000  \n",
       " 153             -8.000000             0.000000  \n",
       " 157              0.000000             0.000000  \n",
       " 160              0.000000             0.000000  \n",
       " 165              6.000000             0.000000  ,\n",
       "     soundID             datetime  emotionrating  emotion soundgroup  \\\n",
       " 1    0085_2  2022-06-15 19:49:53            1.0  Sadness  Transport   \n",
       " 7    0166_2  2022-06-15 19:45:41            1.0  Sadness  Transport   \n",
       " 9    0173_2  2022-06-15 19:54:58            4.0  Sadness  Transport   \n",
       " 33   0276_2  2022-06-15 19:37:18            4.0  Sadness     People   \n",
       " 57   0334_2  2022-06-15 19:26:56            3.0  Sadness     Nature   \n",
       " 59   0336_2  2022-06-15 19:26:19            1.0  Sadness     Nature   \n",
       " 64   0355_2  2022-06-15 19:35:57            4.0  Sadness     People   \n",
       " 72   0420_2  2022-06-15 19:20:35            4.0  Sadness     Nature   \n",
       " 73   0421_2  2022-06-15 19:29:00            4.0  Sadness     Nature   \n",
       " 74   0422_2  2022-06-15 19:25:52            4.0  Sadness     Nature   \n",
       " 75   0461_2  2022-06-15 19:26:44            2.0  Sadness     Nature   \n",
       " 91   0608_2  2022-06-15 19:43:13            2.0  Sadness  Transport   \n",
       " 99   0664_2  2022-06-15 19:54:10            4.0  Sadness  Transport   \n",
       " 151  0957_2  2022-06-15 19:29:27            3.0  Sadness     Nature   \n",
       " 168  1366_2  2022-06-15 19:47:15            3.0  Sadness  Transport   \n",
       " 169  1377_2  2022-06-15 19:51:30            2.0  Sadness  Transport   \n",
       " 174  1388_2  2022-06-15 19:35:17            5.0  Sadness     People   \n",
       " 175  1389_2  2022-06-15 19:36:51            4.0  Sadness     People   \n",
       " 176  1390_2  2022-06-15 19:36:36            3.0  Sadness     People   \n",
       " \n",
       "      heart_ratemean  heart_ratestd  skin_tempmean  skin_tempstd  \\\n",
       " 1        102.500000       0.707107       1.539936      0.000000   \n",
       " 7         95.666667       2.081666       1.524936      0.000000   \n",
       " 9         96.333333       2.081666       1.464936      0.000000   \n",
       " 33        93.666667       0.577350       1.559936      0.000000   \n",
       " 57        84.333333       3.214550       1.609936      0.000000   \n",
       " 59        98.500000       2.121320       1.609936      0.000000   \n",
       " 64        97.666667       1.154701       1.594936      0.000000   \n",
       " 72        67.333333       3.511885       1.659936      0.000000   \n",
       " 73       107.666667       1.527525       1.619936      0.000000   \n",
       " 74        84.666667       1.527525       1.604936      0.000000   \n",
       " 75        91.000000       2.645751       1.609936      0.000000   \n",
       " 91        96.666667       0.577350       1.518269      0.005774   \n",
       " 99        97.000000       1.414214       1.472436      0.010607   \n",
       " 151      111.500000       0.707107       1.619936      0.000000   \n",
       " 168       96.666667       0.577350       1.554936      0.000000   \n",
       " 169      102.000000       1.414214       1.514936      0.000000   \n",
       " 174       98.333333       0.577350       1.594936      0.000000   \n",
       " 175       94.500000       0.707107       1.584936      0.000000   \n",
       " 176       94.000000       1.000000       1.584936      0.000000   \n",
       " \n",
       "      est_02_variationmean  est_02_variationstd  \n",
       " 1                     0.0             0.000000  \n",
       " 7                    24.0             0.000000  \n",
       " 9                    -8.0             0.000000  \n",
       " 33                    0.0             0.000000  \n",
       " 57                    0.0             0.000000  \n",
       " 59                    0.0             0.000000  \n",
       " 64                   -3.0             0.000000  \n",
       " 72                   -4.0             0.000000  \n",
       " 73                   -4.0             6.928203  \n",
       " 74                   -4.0             0.000000  \n",
       " 75                    0.0             0.000000  \n",
       " 91                    3.0             1.732051  \n",
       " 99                  -14.5             9.192388  \n",
       " 151                 -12.0             0.000000  \n",
       " 168                 -21.0             0.000000  \n",
       " 169                   6.0             0.000000  \n",
       " 174                  -3.0             0.000000  \n",
       " 175                 -13.0             0.000000  \n",
       " 176                 -13.0             0.000000  ,\n",
       "     soundID             datetime  emotionrating    emotion soundgroup  \\\n",
       " 10   0175_2  2022-06-15 19:29:39            3.0  Happiness     Nature   \n",
       " 16   0211_2  2022-06-15 19:29:14            1.0  Happiness     Nature   \n",
       " 22   0233_2  2022-06-15 19:56:59            3.0  Happiness  Transport   \n",
       " 26   0243_2  2022-06-15 19:44:03            1.0  Happiness  Transport   \n",
       " 32   0275_2  2022-06-15 19:36:11            5.0  Happiness     People   \n",
       " 34   0278_2  2022-06-15 19:33:01            6.0  Happiness     People   \n",
       " 35   0282_2  2022-06-15 19:48:47            2.0  Happiness  Transport   \n",
       " 37   0284_2  2022-06-15 19:45:53            1.0  Happiness  Transport   \n",
       " 39   0287_2  2022-06-15 19:42:14            3.0  Happiness  Transport   \n",
       " 40   0288_2  2022-06-15 19:54:47            4.0  Happiness  Transport   \n",
       " 41   0289_2  2022-06-15 19:56:32            7.0  Happiness  Transport   \n",
       " 43   0294_2  2022-06-15 19:28:47            3.0  Happiness     Nature   \n",
       " 55   0327_2  2022-06-15 19:49:15            1.0  Happiness  Transport   \n",
       " 66   0367_2  2022-06-15 19:32:48            5.0  Happiness     People   \n",
       " 94   0621_2  2022-06-15 19:27:22            4.0  Happiness     Nature   \n",
       " 97   0654_2  2022-06-15 19:43:00            4.0  Happiness  Transport   \n",
       " 102  0679_2  2022-06-15 19:35:03            4.0  Happiness     People   \n",
       " 107  0708_2  2022-06-15 19:33:49            5.0  Happiness     People   \n",
       " 111  0737_2  2022-06-15 19:45:15            3.0  Happiness  Transport   \n",
       " 113  0750_2  2022-06-15 19:33:13            8.0  Happiness     People   \n",
       " 121  0799_2  2022-06-15 19:20:50            2.0  Happiness     Nature   \n",
       " 124  0809_2  2022-06-15 19:27:40            6.0  Happiness     Nature   \n",
       " 134  0886_2  2022-06-15 19:33:25            4.0  Happiness     People   \n",
       " 139  0908_2  2022-06-15 19:26:06            3.0  Happiness     Nature   \n",
       " 140  0911_2  2022-06-15 19:53:00            3.0  Happiness  Transport   \n",
       " 159  1027_2  2022-06-15 19:34:01            4.0  Happiness     People   \n",
       " 171  1385_2  2022-06-15 19:33:36            3.0  Happiness     People   \n",
       " 172  1386_2  2022-06-15 19:34:50            3.0  Happiness     People   \n",
       " 177       s  2022-06-15 19:40:47            3.0  Happiness  Transport   \n",
       " \n",
       "      heart_ratemean  heart_ratestd  skin_tempmean  skin_tempstd  \\\n",
       " 10       108.333333       2.516611       1.619936      0.000000   \n",
       " 16       110.500000       2.121320       1.619936      0.000000   \n",
       " 22        75.000000       1.414214       1.489936      0.000000   \n",
       " 26        95.000000       1.414214       1.514936      0.000000   \n",
       " 32        93.333333       4.041452       1.588269      0.005774   \n",
       " 34       104.000000       1.414214       1.594936      0.007071   \n",
       " 35        98.500000       0.707107       1.554936      0.000000   \n",
       " 37        94.500000       0.707107       1.524936      0.000000   \n",
       " 39        94.500000       0.707107       1.524936      0.000000   \n",
       " 40        97.500000       0.707107       1.464936      0.000000   \n",
       " 41        82.000000       5.656854       1.489936      0.000000   \n",
       " 43       102.333333       4.041452       1.619936      0.000000   \n",
       " 55        98.666667       0.577350       1.539936      0.000000   \n",
       " 66       102.500000       0.707107       1.599936      0.000000   \n",
       " 94        82.000000       1.000000       1.619936      0.000000   \n",
       " 97        97.500000       0.707107       1.524936      0.000000   \n",
       " 102      100.000000       1.000000       1.581602      0.011547   \n",
       " 107       98.500000       0.707107       1.589936      0.000000   \n",
       " 111       97.666667       0.577350       1.524936      0.000000   \n",
       " 113      101.333333       3.214550       1.589936      0.000000   \n",
       " 121       68.000000       1.414214       1.659936      0.000000   \n",
       " 124       86.333333       3.511885       1.619936      0.000000   \n",
       " 134       98.666667       0.577350       1.589936      0.000000   \n",
       " 139       87.666667       3.785939       1.606602      0.002887   \n",
       " 140       97.000000       1.000000       1.479936      0.000000   \n",
       " 159       99.000000       0.000000       1.589936      0.000000   \n",
       " 171       99.333333       0.577350       1.589936      0.000000   \n",
       " 172       99.000000       1.414214       1.574936      0.000000   \n",
       " 177       93.000000       1.000000       1.554936      0.000000   \n",
       " \n",
       "      est_02_variationmean  est_02_variationstd  \n",
       " 10             -12.000000             0.000000  \n",
       " 16             -12.000000             0.000000  \n",
       " 22             -12.000000             0.000000  \n",
       " 26              -6.500000            14.849242  \n",
       " 32              -9.666667             5.773503  \n",
       " 34              14.000000            19.798990  \n",
       " 35               6.000000             0.000000  \n",
       " 37              24.000000             0.000000  \n",
       " 39               1.000000             0.000000  \n",
       " 40              -8.000000             0.000000  \n",
       " 41             -12.000000             0.000000  \n",
       " 43               0.000000             0.000000  \n",
       " 55               0.000000             0.000000  \n",
       " 66              28.000000             0.000000  \n",
       " 94               0.000000             0.000000  \n",
       " 97               1.000000             0.000000  \n",
       " 102             16.333333            16.743158  \n",
       " 107              0.000000             0.000000  \n",
       " 111             24.000000             0.000000  \n",
       " 113              0.000000             0.000000  \n",
       " 121             -4.000000             0.000000  \n",
       " 124              0.000000             0.000000  \n",
       " 134              0.000000             0.000000  \n",
       " 139             -2.666667             2.309401  \n",
       " 140             -6.333333            12.701706  \n",
       " 159              0.000000             0.000000  \n",
       " 171              0.000000             0.000000  \n",
       " 172             26.000000             0.000000  \n",
       " 177             -1.000000             0.000000  ,\n",
       " Empty DataFrame\n",
       " Columns: [soundID, datetime, emotionrating, emotion, soundgroup, heart_ratemean, heart_ratestd, skin_tempmean, skin_tempstd, est_02_variationmean, est_02_variationstd]\n",
       " Index: [],\n",
       "     soundID             datetime  emotionrating    emotion soundgroup  \\\n",
       " 5    0149_2  2022-06-15 19:27:09            4.0       Fear     Nature   \n",
       " 10   0175_2  2022-06-15 19:29:39            3.0  Happiness     Nature   \n",
       " 16   0211_2  2022-06-15 19:29:14            1.0  Happiness     Nature   \n",
       " 43   0294_2  2022-06-15 19:28:47            3.0  Happiness     Nature   \n",
       " 44   0296_2  2022-06-15 19:27:54            5.0       Fear     Nature   \n",
       " 57   0334_2  2022-06-15 19:26:56            3.0    Sadness     Nature   \n",
       " 59   0336_2  2022-06-15 19:26:19            1.0    Sadness     Nature   \n",
       " 60   0337_2  2022-06-15 19:30:20            6.0       Fear     Nature   \n",
       " 72   0420_2  2022-06-15 19:20:35            4.0    Sadness     Nature   \n",
       " 73   0421_2  2022-06-15 19:29:00            4.0    Sadness     Nature   \n",
       " 74   0422_2  2022-06-15 19:25:52            4.0    Sadness     Nature   \n",
       " 75   0461_2  2022-06-15 19:26:44            2.0    Sadness     Nature   \n",
       " 76   0463_2  2022-06-15 19:26:30            2.0       Fear     Nature   \n",
       " 90   0603_2  2022-06-15 19:25:36            6.0       Fear     Nature   \n",
       " 94   0621_2  2022-06-15 19:27:22            4.0  Happiness     Nature   \n",
       " 105  0706_2  2022-06-15 19:28:07            4.0       Fear     Nature   \n",
       " 109  0726_2  2022-06-15 19:30:07            6.0       Fear     Nature   \n",
       " 112  0740_2  2022-06-15 19:20:19            2.0       Fear     Nature   \n",
       " 121  0799_2  2022-06-15 19:20:50            2.0  Happiness     Nature   \n",
       " 124  0809_2  2022-06-15 19:27:40            6.0  Happiness     Nature   \n",
       " 137  0897_2  2022-06-15 19:28:21            3.0       Fear     Nature   \n",
       " 139  0908_2  2022-06-15 19:26:06            3.0  Happiness     Nature   \n",
       " 151  0957_2  2022-06-15 19:29:27            3.0    Sadness     Nature   \n",
       " \n",
       "      heart_ratemean  heart_ratestd  skin_tempmean  skin_tempstd  \\\n",
       " 5         81.000000       1.414214       1.614936      0.007071   \n",
       " 10       108.333333       2.516611       1.619936      0.000000   \n",
       " 16       110.500000       2.121320       1.619936      0.000000   \n",
       " 43       102.333333       4.041452       1.619936      0.000000   \n",
       " 44        92.500000       2.121320       1.619936      0.000000   \n",
       " 57        84.333333       3.214550       1.609936      0.000000   \n",
       " 59        98.500000       2.121320       1.609936      0.000000   \n",
       " 60       106.500000       0.707107       1.604936      0.000000   \n",
       " 72        67.333333       3.511885       1.659936      0.000000   \n",
       " 73       107.666667       1.527525       1.619936      0.000000   \n",
       " 74        84.666667       1.527525       1.604936      0.000000   \n",
       " 75        91.000000       2.645751       1.609936      0.000000   \n",
       " 76        96.000000       3.464102       1.609936      0.000000   \n",
       " 90        83.000000       0.000000       1.604936      0.000000   \n",
       " 94        82.000000       1.000000       1.619936      0.000000   \n",
       " 105       96.333333       2.081666       1.619936      0.000000   \n",
       " 109      105.000000       1.414214       1.612436      0.010607   \n",
       " 112       68.000000       1.732051       1.659936      0.000000   \n",
       " 121       68.000000       1.414214       1.659936      0.000000   \n",
       " 124       86.333333       3.511885       1.619936      0.000000   \n",
       " 137       96.666667       1.154701       1.619936      0.000000   \n",
       " 139       87.666667       3.785939       1.606602      0.002887   \n",
       " 151      111.500000       0.707107       1.619936      0.000000   \n",
       " \n",
       "      est_02_variationmean  est_02_variationstd  \n",
       " 5                0.000000             0.000000  \n",
       " 10             -12.000000             0.000000  \n",
       " 16             -12.000000             0.000000  \n",
       " 43               0.000000             0.000000  \n",
       " 44               0.000000             0.000000  \n",
       " 57               0.000000             0.000000  \n",
       " 59               0.000000             0.000000  \n",
       " 60               0.000000             0.000000  \n",
       " 72              -4.000000             0.000000  \n",
       " 73              -4.000000             6.928203  \n",
       " 74              -4.000000             0.000000  \n",
       " 75               0.000000             0.000000  \n",
       " 76               0.000000             0.000000  \n",
       " 90              -4.000000             0.000000  \n",
       " 94               0.000000             0.000000  \n",
       " 105              0.000000             0.000000  \n",
       " 109             -6.000000             8.485281  \n",
       " 112             -4.000000             0.000000  \n",
       " 121             -4.000000             0.000000  \n",
       " 124              0.000000             0.000000  \n",
       " 137              0.000000             0.000000  \n",
       " 139             -2.666667             2.309401  \n",
       " 151            -12.000000             0.000000  ,\n",
       "     soundID             datetime  emotionrating    emotion soundgroup  \\\n",
       " 1    0085_2  2022-06-15 19:49:53            1.0    Sadness  Transport   \n",
       " 7    0166_2  2022-06-15 19:45:41            1.0    Sadness  Transport   \n",
       " 8    0167_2  2022-06-15 19:49:29            3.0       Fear  Transport   \n",
       " 9    0173_2  2022-06-15 19:54:58            4.0    Sadness  Transport   \n",
       " 17   0217_2  2022-06-15 19:57:12            7.0       Fear  Transport   \n",
       " 20   0222_2  2022-06-15 19:45:28            2.0       Fear  Transport   \n",
       " 22   0233_2  2022-06-15 19:56:59            3.0  Happiness  Transport   \n",
       " 26   0243_2  2022-06-15 19:44:03            1.0  Happiness  Transport   \n",
       " 35   0282_2  2022-06-15 19:48:47            2.0  Happiness  Transport   \n",
       " 36   0283_2  2022-06-15 19:43:50            2.0       Fear  Transport   \n",
       " 37   0284_2  2022-06-15 19:45:53            1.0  Happiness  Transport   \n",
       " 38   0286_2  2022-06-15 19:48:35            4.0       Fear  Transport   \n",
       " 39   0287_2  2022-06-15 19:42:14            3.0  Happiness  Transport   \n",
       " 40   0288_2  2022-06-15 19:54:47            4.0  Happiness  Transport   \n",
       " 41   0289_2  2022-06-15 19:56:32            7.0  Happiness  Transport   \n",
       " 42   0290_2  2022-06-15 19:55:10            3.0       Fear  Transport   \n",
       " 48   0300_2  2022-06-15 19:43:25            2.0       Fear  Transport   \n",
       " 49   0308_2  2022-06-15 19:55:22            4.0       Fear  Transport   \n",
       " 52   0322_2  2022-06-15 19:42:26            4.0       Fear  Transport   \n",
       " 55   0327_2  2022-06-15 19:49:15            1.0  Happiness  Transport   \n",
       " 69   0379_2  2022-06-15 19:49:40            9.0       Fear  Transport   \n",
       " 70   0417_2  2022-06-15 19:46:47            3.0       Fear  Transport   \n",
       " 91   0608_2  2022-06-15 19:43:13            2.0    Sadness  Transport   \n",
       " 97   0654_2  2022-06-15 19:43:00            4.0  Happiness  Transport   \n",
       " 99   0664_2  2022-06-15 19:54:10            4.0    Sadness  Transport   \n",
       " 111  0737_2  2022-06-15 19:45:15            3.0  Happiness  Transport   \n",
       " 114  0753_2  2022-06-15 19:47:02            2.0       Fear  Transport   \n",
       " 118  0778_2  2022-06-15 19:56:45            3.0       Fear  Transport   \n",
       " 122  0802_2  2022-06-15 19:46:20            2.0       Fear  Transport   \n",
       " 130  0823_2  2022-06-15 19:43:37            2.0       Fear  Transport   \n",
       " 140  0911_2  2022-06-15 19:53:00            3.0  Happiness  Transport   \n",
       " 146  0931_2  2022-06-15 19:51:43            2.0       Fear  Transport   \n",
       " 149  0939_2  2022-06-15 19:47:28            5.0       Fear  Transport   \n",
       " 153  0972_2  2022-06-15 19:54:34            3.0       Fear  Transport   \n",
       " 157  1004_2  2022-06-15 19:46:34            4.0       Fear  Transport   \n",
       " 160  1039_2  2022-06-15 19:46:05            4.0       Fear  Transport   \n",
       " 165  1063_2  2022-06-15 19:48:59            3.0       Fear  Transport   \n",
       " 168  1366_2  2022-06-15 19:47:15            3.0    Sadness  Transport   \n",
       " 169  1377_2  2022-06-15 19:51:30            2.0    Sadness  Transport   \n",
       " 177       s  2022-06-15 19:40:47            3.0  Happiness  Transport   \n",
       " \n",
       "      heart_ratemean  heart_ratestd  skin_tempmean  skin_tempstd  \\\n",
       " 1        102.500000       0.707107       1.539936      0.000000   \n",
       " 7         95.666667       2.081666       1.524936      0.000000   \n",
       " 8         98.500000       0.707107       1.539936      0.000000   \n",
       " 9         96.333333       2.081666       1.464936      0.000000   \n",
       " 17        82.666667       5.131601       1.499936      0.000000   \n",
       " 20        98.333333       0.577350       1.524936      0.000000   \n",
       " 22        75.000000       1.414214       1.489936      0.000000   \n",
       " 26        95.000000       1.414214       1.514936      0.000000   \n",
       " 35        98.500000       0.707107       1.554936      0.000000   \n",
       " 36        96.666667       0.577350       1.514936      0.000000   \n",
       " 37        94.500000       0.707107       1.524936      0.000000   \n",
       " 38        97.000000       0.000000       1.554936      0.000000   \n",
       " 39        94.500000       0.707107       1.524936      0.000000   \n",
       " 40        97.500000       0.707107       1.464936      0.000000   \n",
       " 41        82.000000       5.656854       1.489936      0.000000   \n",
       " 42        96.000000       1.732051       1.464936      0.000000   \n",
       " 48        96.666667       0.577350       1.514936      0.000000   \n",
       " 49        97.000000       1.000000       1.464936      0.000000   \n",
       " 52        96.000000       0.000000       1.524936      0.000000   \n",
       " 55        98.666667       0.577350       1.539936      0.000000   \n",
       " 69       100.333333       1.527525       1.539936      0.000000   \n",
       " 70        93.666667       0.577350       1.544936      0.000000   \n",
       " 91        96.666667       0.577350       1.518269      0.005774   \n",
       " 97        97.500000       0.707107       1.524936      0.000000   \n",
       " 99        97.000000       1.414214       1.472436      0.010607   \n",
       " 111       97.666667       0.577350       1.524936      0.000000   \n",
       " 114       95.333333       1.527525       1.548269      0.005774   \n",
       " 118       78.333333       1.527525       1.489936      0.000000   \n",
       " 122       94.333333       0.577350       1.544936      0.000000   \n",
       " 130       96.500000       0.707107       1.514936      0.000000   \n",
       " 140       97.000000       1.000000       1.479936      0.000000   \n",
       " 146      101.000000       0.000000       1.514936      0.000000   \n",
       " 149       95.333333       1.527525       1.554936      0.000000   \n",
       " 153       97.000000       0.000000       1.464936      0.000000   \n",
       " 157       93.500000       0.707107       1.544936      0.000000   \n",
       " 160       93.000000       0.000000       1.544936      0.000000   \n",
       " 165       98.500000       0.707107       1.554936      0.000000   \n",
       " 168       96.666667       0.577350       1.554936      0.000000   \n",
       " 169      102.000000       1.414214       1.514936      0.000000   \n",
       " 177       93.000000       1.000000       1.554936      0.000000   \n",
       " \n",
       "      est_02_variationmean  est_02_variationstd  \n",
       " 1                0.000000             0.000000  \n",
       " 7               24.000000             0.000000  \n",
       " 8                0.000000             0.000000  \n",
       " 9               -8.000000             0.000000  \n",
       " 17               0.000000             0.000000  \n",
       " 20              24.000000             0.000000  \n",
       " 22             -12.000000             0.000000  \n",
       " 26              -6.500000            14.849242  \n",
       " 35               6.000000             0.000000  \n",
       " 36               4.000000             0.000000  \n",
       " 37              24.000000             0.000000  \n",
       " 38               6.000000             0.000000  \n",
       " 39               1.000000             0.000000  \n",
       " 40              -8.000000             0.000000  \n",
       " 41             -12.000000             0.000000  \n",
       " 42             -20.666667            10.969655  \n",
       " 48               4.000000             0.000000  \n",
       " 49             -27.000000             0.000000  \n",
       " 52               1.000000             0.000000  \n",
       " 55               0.000000             0.000000  \n",
       " 69               0.000000             0.000000  \n",
       " 70               0.000000             0.000000  \n",
       " 91               3.000000             1.732051  \n",
       " 97               1.000000             0.000000  \n",
       " 99             -14.500000             9.192388  \n",
       " 111             24.000000             0.000000  \n",
       " 114             -7.000000            12.124356  \n",
       " 118            -12.000000             0.000000  \n",
       " 122              0.000000             0.000000  \n",
       " 130              4.000000             0.000000  \n",
       " 140             -6.333333            12.701706  \n",
       " 146              6.000000             0.000000  \n",
       " 149            -21.000000             0.000000  \n",
       " 153             -8.000000             0.000000  \n",
       " 157              0.000000             0.000000  \n",
       " 160              0.000000             0.000000  \n",
       " 165              6.000000             0.000000  \n",
       " 168            -21.000000             0.000000  \n",
       " 169              6.000000             0.000000  \n",
       " 177             -1.000000             0.000000  ,\n",
       "     soundID             datetime  emotionrating    emotion soundgroup  \\\n",
       " 32   0275_2  2022-06-15 19:36:11            5.0  Happiness     People   \n",
       " 33   0276_2  2022-06-15 19:37:18            4.0    Sadness     People   \n",
       " 34   0278_2  2022-06-15 19:33:01            6.0  Happiness     People   \n",
       " 50   0311_2  2022-06-15 19:37:05            1.0       Fear     People   \n",
       " 64   0355_2  2022-06-15 19:35:57            4.0    Sadness     People   \n",
       " 66   0367_2  2022-06-15 19:32:48            5.0  Happiness     People   \n",
       " 79   0490_2  2022-06-15 19:34:25            3.0       Fear     People   \n",
       " 102  0679_2  2022-06-15 19:35:03            4.0  Happiness     People   \n",
       " 107  0708_2  2022-06-15 19:33:49            5.0  Happiness     People   \n",
       " 113  0750_2  2022-06-15 19:33:13            8.0  Happiness     People   \n",
       " 125  0810_2  2022-06-15 19:36:23            5.0       Fear     People   \n",
       " 126  0811_2  2022-06-15 19:35:31            5.0       Fear     People   \n",
       " 134  0886_2  2022-06-15 19:33:25            4.0  Happiness     People   \n",
       " 136  0890_2  2022-06-15 19:35:44            1.0       Fear     People   \n",
       " 159  1027_2  2022-06-15 19:34:01            4.0  Happiness     People   \n",
       " 171  1385_2  2022-06-15 19:33:36            3.0  Happiness     People   \n",
       " 172  1386_2  2022-06-15 19:34:50            3.0  Happiness     People   \n",
       " 174  1388_2  2022-06-15 19:35:17            5.0    Sadness     People   \n",
       " 175  1389_2  2022-06-15 19:36:51            4.0    Sadness     People   \n",
       " 176  1390_2  2022-06-15 19:36:36            3.0    Sadness     People   \n",
       " \n",
       "      heart_ratemean  heart_ratestd  skin_tempmean  skin_tempstd  \\\n",
       " 32        93.333333       4.041452       1.588269      0.005774   \n",
       " 33        93.666667       0.577350       1.559936      0.000000   \n",
       " 34       104.000000       1.414214       1.594936      0.007071   \n",
       " 50        93.500000       0.707107       1.572436      0.017678   \n",
       " 64        97.666667       1.154701       1.594936      0.000000   \n",
       " 66       102.500000       0.707107       1.599936      0.000000   \n",
       " 79        99.333333       1.527525       1.574936      0.000000   \n",
       " 102      100.000000       1.000000       1.581602      0.011547   \n",
       " 107       98.500000       0.707107       1.589936      0.000000   \n",
       " 113      101.333333       3.214550       1.589936      0.000000   \n",
       " 125       91.000000       2.000000       1.584936      0.000000   \n",
       " 126       97.500000       0.707107       1.594936      0.000000   \n",
       " 134       98.666667       0.577350       1.589936      0.000000   \n",
       " 136       97.333333       0.577350       1.594936      0.000000   \n",
       " 159       99.000000       0.000000       1.589936      0.000000   \n",
       " 171       99.333333       0.577350       1.589936      0.000000   \n",
       " 172       99.000000       1.414214       1.574936      0.000000   \n",
       " 174       98.333333       0.577350       1.594936      0.000000   \n",
       " 175       94.500000       0.707107       1.584936      0.000000   \n",
       " 176       94.000000       1.000000       1.584936      0.000000   \n",
       " \n",
       "      est_02_variationmean  est_02_variationstd  \n",
       " 32              -9.666667             5.773503  \n",
       " 33               0.000000             0.000000  \n",
       " 34              14.000000            19.798990  \n",
       " 50              -6.500000             9.192388  \n",
       " 64              -3.000000             0.000000  \n",
       " 66              28.000000             0.000000  \n",
       " 79              26.000000             0.000000  \n",
       " 102             16.333333            16.743158  \n",
       " 107              0.000000             0.000000  \n",
       " 113              0.000000             0.000000  \n",
       " 125            -13.000000             0.000000  \n",
       " 126             -3.000000             0.000000  \n",
       " 134              0.000000             0.000000  \n",
       " 136             -3.000000             0.000000  \n",
       " 159              0.000000             0.000000  \n",
       " 171              0.000000             0.000000  \n",
       " 172             26.000000             0.000000  \n",
       " 174             -3.000000             0.000000  \n",
       " 175            -13.000000             0.000000  \n",
       " 176            -13.000000             0.000000  )"
      ]
     },
     "execution_count": 20,
     "metadata": {},
     "output_type": "execute_result"
    }
   ],
   "source": [
    "explore_split_data(df_researchdata)"
   ]
  },
  {
   "cell_type": "markdown",
   "metadata": {},
   "source": [
    "## Visualizing Descriptive Statistics"
   ]
  },
  {
   "cell_type": "code",
   "execution_count": 27,
   "metadata": {},
   "outputs": [],
   "source": [
    "\n",
    "def visualize_boxplot(dfs):\n",
    "    fig, axes = plt.subplots(nrows=1, ncols=2, figsize=(18,10))\n",
    "    sns.boxplot(ax=axes[0], data=dfs, x='emotion', y='heart_ratemean')\n",
    "    sns.boxplot(ax=axes[1], data=dfs, x='soundgroup', y='heart_ratemean')\n",
    "    plt.show()\n",
    "\n",
    "\n",
    "def visualize_boxplot_group(dfs):\n",
    "    '''\n",
    "    This is to visualize boxplot amongst participants\n",
    "    '''\n",
    "    fig, axes = plt.subplots(2, 3, figsize=(18, 10))\n",
    "    sns.boxplot(ax=axes[0, 0], data=dfs, x='emotion', y='petal_width')\n",
    "    sns.boxplot(ax=axes[0, 1], data=dfs, x='emotion', y='petal_length')\n",
    "    sns.boxplot(ax=axes[0, 2], data=dfs, x='emotion', y='sepal_width')\n",
    "    sns.boxplot(ax=axes[1, 0], data=dfs, x='emotion', y='sepal_length')\n",
    "    sns.boxplot(ax=axes[1, 1], data=dfs, x='emotion', y='petal_width')\n",
    "    sns.boxplot(ax=axes[1, 2], data=dfs, x='emotion', y='petal_length')\n",
    "    plt.show()\n",
    "\n",
    "# def get_df_name(df):\n",
    "#     name =[x for x in globals() if globals()[x] is df][0]\n",
    "#     return name\n",
    "\n",
    "def visualize_histplot(dfs):\n",
    "    dfs,names = create_dflist_name(dfs)\n",
    "    for df,name in zip(dfs,names):\n",
    "        #need to pull title for all plots\n",
    "        sns.histplot(data=df, x=\"heart_ratemean\", kde=True )\n",
    "        plt.title(f'{name}')\n",
    "        plt.show()\n",
    "    # return df_list \n",
    "\n",
    "def visualize_qqplot(dfs):\n",
    "    dfs,names = create_dflist_name(dfs)\n",
    "    for df,name in zip(dfs,names):\n",
    "        qqplot(df.heart_ratemean, line= \"s\")\n",
    "        plt.title(f'{name}')\n",
    "        plt.show()    "
   ]
  },
  {
   "cell_type": "code",
   "execution_count": 29,
   "metadata": {},
   "outputs": [
    {
     "data": {
      "image/png": "[encoded data removed]",
      "text/plain": [
       "<Figure size 432x288 with 1 Axes>"
      ]
     },
     "metadata": {
      "needs_background": "light"
     },
     "output_type": "display_data"
    },
    {
     "data": {
      "image/png": "[encoded data removed]",
      "text/plain": [
       "<Figure size 432x288 with 1 Axes>"
      ]
     },
     "metadata": {
      "needs_background": "light"
     },
     "output_type": "display_data"
    },
    {
     "data": {
      "image/png": "[encoded data removed]",
      "text/plain": [
       "<Figure size 432x288 with 1 Axes>"
      ]
     },
     "metadata": {
      "needs_background": "light"
     },
     "output_type": "display_data"
    },
    {
     "data": {
      "image/png": "[encoded data removed]",
      "text/plain": [
       "<Figure size 432x288 with 1 Axes>"
      ]
     },
     "metadata": {
      "needs_background": "light"
     },
     "output_type": "display_data"
    },
    {
     "data": {
      "image/png": "[encoded data removed]",
      "text/plain": [
       "<Figure size 432x288 with 1 Axes>"
      ]
     },
     "metadata": {
      "needs_background": "light"
     },
     "output_type": "display_data"
    },
    {
     "data": {
      "image/png": "[encoded data removed]",
      "text/plain": [
       "<Figure size 432x288 with 1 Axes>"
      ]
     },
     "metadata": {
      "needs_background": "light"
     },
     "output_type": "display_data"
    },
    {
     "data": {
      "image/png": "[encoded data removed]",
      "text/plain": [
       "<Figure size 432x288 with 1 Axes>"
      ]
     },
     "metadata": {
      "needs_background": "light"
     },
     "output_type": "display_data"
    }
   ],
   "source": [
    "visualize_qqplot(df_researchdata)"
   ]
  },
  {
   "cell_type": "code",
   "execution_count": 24,
   "metadata": {},
   "outputs": [
    {
     "data": {
      "image/png": "[encoded data removed]",
      "text/plain": [
       "<Figure size 432x288 with 1 Axes>"
      ]
     },
     "metadata": {
      "needs_background": "light"
     },
     "output_type": "display_data"
    },
    {
     "data": {
      "image/png": "[encoded data removed]",
      "text/plain": [
       "<Figure size 432x288 with 1 Axes>"
      ]
     },
     "metadata": {
      "needs_background": "light"
     },
     "output_type": "display_data"
    },
    {
     "data": {
      "image/png": "[encoded data removed]",
      "text/plain": [
       "<Figure size 432x288 with 1 Axes>"
      ]
     },
     "metadata": {
      "needs_background": "light"
     },
     "output_type": "display_data"
    },
    {
     "data": {
      "image/png": "[encoded data removed]",
      "text/plain": [
       "<Figure size 432x288 with 1 Axes>"
      ]
     },
     "metadata": {
      "needs_background": "light"
     },
     "output_type": "display_data"
    },
    {
     "data": {
      "image/png": "[encoded data removed]",
      "text/plain": [
       "<Figure size 432x288 with 1 Axes>"
      ]
     },
     "metadata": {
      "needs_background": "light"
     },
     "output_type": "display_data"
    },
    {
     "data": {
      "image/png": "[encoded data removed]",
      "text/plain": [
       "<Figure size 432x288 with 1 Axes>"
      ]
     },
     "metadata": {
      "needs_background": "light"
     },
     "output_type": "display_data"
    },
    {
     "data": {
      "image/png": "[encoded data removed]",
      "text/plain": [
       "<Figure size 432x288 with 1 Axes>"
      ]
     },
     "metadata": {
      "needs_background": "light"
     },
     "output_type": "display_data"
    }
   ],
   "source": [
    "visualize_histplot(df_researchdata)"
   ]
  },
  {
   "cell_type": "code",
   "execution_count": 60,
   "metadata": {},
   "outputs": [
    {
     "data": {
      "image/png": "[encoded data removed]",
      "text/plain": [
       "<Figure size 1296x720 with 2 Axes>"
      ]
     },
     "metadata": {
      "needs_background": "light"
     },
     "output_type": "display_data"
    }
   ],
   "source": [
    "visualize_boxplot(df_researchdata)"
   ]
  },
  {
   "cell_type": "markdown",
   "metadata": {},
   "source": [
    "## Normality Tests"
   ]
  },
  {
   "cell_type": "code",
   "execution_count": 40,
   "metadata": {},
   "outputs": [],
   "source": [
    "def shapiro_test (dfs):\n",
    "\t\n",
    "\tdfs,names = create_dflist_name(dfs)\n",
    "\tfor df,name in zip(dfs,names):\n",
    "\t\tstat, p = shapiro(df.heart_ratemean)\n",
    "\t\tprint('Statistics=%.3f, p=%.3f' % (stat, p))\n",
    "\t\t# interpret\n",
    "\t\talpha = 0.05\n",
    "\t\tif p > alpha:\n",
    "\t\t\tprint(f'\\n{name}\\n', 'Sample looks Gaussian (fail to reject H0)')\n",
    "\t\telse:\n",
    "\t\t\tprint(f'\\n{name}\\n', 'Sample does not look Gaussian (reject H0)')"
   ]
  },
  {
   "cell_type": "code",
   "execution_count": 18,
   "metadata": {},
   "outputs": [
    {
     "name": "stdout",
     "output_type": "stream",
     "text": [
      "['fear', 'sadness', 'happiness', 'fear', 'nature', 'transport', 'people']\n"
     ]
    }
   ],
   "source": [
    "x  = create_dict(df_researchdata)"
   ]
  },
  {
   "cell_type": "code",
   "execution_count": 41,
   "metadata": {},
   "outputs": [
    {
     "name": "stdout",
     "output_type": "stream",
     "text": [
      "Statistics=0.811, p=0.000\n",
      "\n",
      "fear\n",
      " Sample does not look Gaussian (reject H0)\n",
      "Statistics=0.880, p=0.022\n",
      "\n",
      "sadness\n",
      " Sample does not look Gaussian (reject H0)\n",
      "Statistics=0.884, p=0.004\n",
      "\n",
      "happiness\n",
      " Sample does not look Gaussian (reject H0)\n"
     ]
    },
    {
     "ename": "ValueError",
     "evalue": "Data must be at least length 3.",
     "output_type": "error",
     "traceback": [
      "\u001b[0;31m---------------------------------------------------------------------------\u001b[0m",
      "\u001b[0;31mValueError\u001b[0m                                Traceback (most recent call last)",
      "\u001b[1;32m/Users/olumide/Documents/Dissertation/Sound Stimuli version 1/Data Analysis Version 2.ipynb Cell 20\u001b[0m in \u001b[0;36m<cell line: 1>\u001b[0;34m()\u001b[0m\n\u001b[0;32m----> <a href='vscode-notebook-cell:/Users/olumide/Documents/Dissertation/Sound%20Stimuli%20version%201/Data%20Analysis%20Version%202.ipynb#ch0000053?line=0'>1</a>\u001b[0m shapiro_test(df_researchdata)\n",
      "\u001b[1;32m/Users/olumide/Documents/Dissertation/Sound Stimuli version 1/Data Analysis Version 2.ipynb Cell 20\u001b[0m in \u001b[0;36mshapiro_test\u001b[0;34m(dfs)\u001b[0m\n\u001b[1;32m      <a href='vscode-notebook-cell:/Users/olumide/Documents/Dissertation/Sound%20Stimuli%20version%201/Data%20Analysis%20Version%202.ipynb#ch0000053?line=2'>3</a>\u001b[0m dfs,names \u001b[39m=\u001b[39m create_dflist_name(dfs)\n\u001b[1;32m      <a href='vscode-notebook-cell:/Users/olumide/Documents/Dissertation/Sound%20Stimuli%20version%201/Data%20Analysis%20Version%202.ipynb#ch0000053?line=3'>4</a>\u001b[0m \u001b[39mfor\u001b[39;00m df,name \u001b[39min\u001b[39;00m \u001b[39mzip\u001b[39m(dfs,names):\n\u001b[0;32m----> <a href='vscode-notebook-cell:/Users/olumide/Documents/Dissertation/Sound%20Stimuli%20version%201/Data%20Analysis%20Version%202.ipynb#ch0000053?line=4'>5</a>\u001b[0m \tstat, p \u001b[39m=\u001b[39m shapiro(df\u001b[39m.\u001b[39;49mheart_ratemean)\n\u001b[1;32m      <a href='vscode-notebook-cell:/Users/olumide/Documents/Dissertation/Sound%20Stimuli%20version%201/Data%20Analysis%20Version%202.ipynb#ch0000053?line=5'>6</a>\u001b[0m \t\u001b[39mprint\u001b[39m(\u001b[39m'\u001b[39m\u001b[39mStatistics=\u001b[39m\u001b[39m%.3f\u001b[39;00m\u001b[39m, p=\u001b[39m\u001b[39m%.3f\u001b[39;00m\u001b[39m'\u001b[39m \u001b[39m%\u001b[39m (stat, p))\n\u001b[1;32m      <a href='vscode-notebook-cell:/Users/olumide/Documents/Dissertation/Sound%20Stimuli%20version%201/Data%20Analysis%20Version%202.ipynb#ch0000053?line=6'>7</a>\u001b[0m \t\u001b[39m# interpret\u001b[39;00m\n",
      "File \u001b[0;32m~/Documents/Dissertation/Sound Stimuli version 1/venv/lib/python3.9/site-packages/scipy/stats/_morestats.py:1750\u001b[0m, in \u001b[0;36mshapiro\u001b[0;34m(x)\u001b[0m\n\u001b[1;32m   1748\u001b[0m N \u001b[39m=\u001b[39m \u001b[39mlen\u001b[39m(x)\n\u001b[1;32m   1749\u001b[0m \u001b[39mif\u001b[39;00m N \u001b[39m<\u001b[39m \u001b[39m3\u001b[39m:\n\u001b[0;32m-> 1750\u001b[0m     \u001b[39mraise\u001b[39;00m \u001b[39mValueError\u001b[39;00m(\u001b[39m\"\u001b[39m\u001b[39mData must be at least length 3.\u001b[39m\u001b[39m\"\u001b[39m)\n\u001b[1;32m   1752\u001b[0m a \u001b[39m=\u001b[39m zeros(N, \u001b[39m'\u001b[39m\u001b[39mf\u001b[39m\u001b[39m'\u001b[39m)\n\u001b[1;32m   1753\u001b[0m init \u001b[39m=\u001b[39m \u001b[39m0\u001b[39m\n",
      "\u001b[0;31mValueError\u001b[0m: Data must be at least length 3."
     ]
    }
   ],
   "source": [
    "shapiro_test(df_researchdata)"
   ]
  },
  {
   "cell_type": "code",
   "execution_count": null,
   "metadata": {},
   "outputs": [],
   "source": [
    "# result = anderson(df.heart_ratemean)\n",
    "# print('Statistic: %.3f' % result.statistic)\n",
    "# p = 0\n",
    "# for i in range(len(result.critical_values)):\n",
    "# \tsl, cv = result.significance_level[i], result.critical_values[i]\n",
    "# \tif result.statistic < result.critical_values[i]:\n",
    "# \t\tprint('%.3f: %.3f, data looks normal (fail to reject H0)' % (sl, cv))\n",
    "# \telse:\n",
    "# \t\tprint('%.3f: %.3f, data does not look normal (reject H0)' % (sl, cv))"
   ]
  },
  {
   "cell_type": "code",
   "execution_count": 44,
   "metadata": {},
   "outputs": [],
   "source": [
    "def normal_test(dfs):\n",
    "\tdfs,names = create_dflist_name(dfs)\n",
    "\tfor df,name in zip(dfs,names):\n",
    "\t\tstat, p = normaltest(df.heart_ratemean)\n",
    "\t\tprint('stat=%.3f, p=%.3f' % (stat, p))\n",
    "\t\tif p > 0.05:\n",
    "\t\t\tprint(f'\\n{name}\\n','Probably Gaussian')\n",
    "\t\telse:\n",
    "\t\t\tprint(f'\\n{name}\\n','Probably not Gaussian')"
   ]
  },
  {
   "cell_type": "markdown",
   "metadata": {},
   "source": [
    "### Hypothesis "
   ]
  },
  {
   "cell_type": "markdown",
   "metadata": {},
   "source": [
    "Ho: There are no significant differences in heart rate of the three emotion/groups\n"
   ]
  },
  {
   "cell_type": "markdown",
   "metadata": {},
   "source": [
    "H1: There are significant differences in heart rate of the three emotions/groups for user one"
   ]
  },
  {
   "cell_type": "markdown",
   "metadata": {},
   "source": [
    "## Parametric Tests"
   ]
  },
  {
   "cell_type": "markdown",
   "metadata": {},
   "source": [
    "### 2 sample independent t-test"
   ]
  },
  {
   "cell_type": "code",
   "execution_count": 51,
   "metadata": {},
   "outputs": [],
   "source": [
    "#Defining 2-sample independent t-test \n",
    "def two_sample_ind_t_test(data1, data2, tail = \"two\",  alpha = 0.05):    \n",
    "    x_bar1 = np.mean(data1)\n",
    "    x_bar2 = np.mean(data2)\n",
    "    st1 = np.std(data1)\n",
    "    st2 = np.std(data2)\n",
    "    n1 = len(data1)\n",
    "    n2 = len(data2)\n",
    "    df = n1 + n2 - 2\n",
    "    \n",
    "    variance_ratio = max(st1**2, st2**2)/min(st1**2,st2**2)\n",
    "    if variance_ratio < 4:\n",
    "        equal_var = True\n",
    "    else:\n",
    "        equal_var = False\n",
    "    \n",
    "    t_score, pi_value = ttest_ind(data1, data2, equal_var = equal_var)\n",
    "\n",
    "#     t-score = (x1 — x2) / √ (σ1^2/n1 + σ2^2/n2),\n",
    "#     where x1 and x2 are mean of sample and σs are the standard deviations of 1 and sample 2 respectively.\n",
    "#     Python package takes n-1 instead of n.2\n",
    "\n",
    "    my_t_score = (x_bar1 - x_bar2)/ np.sqrt( st1**2/(n1-1)+ st2**2/(n2-1))\n",
    "    my_pi_value = st.t.cdf(min(-my_t_score, my_t_score), df) * 2\n",
    "    \n",
    "    if np.round(t_score, 5) != np.round(my_t_score,5) or np.round(pi_value,5) != np.round(my_pi_value,5):\n",
    "        if equal_var == True:\n",
    "            print(\"T-score or p-value calculation Error...\")\n",
    "    \n",
    "    if tail == 'one':\n",
    "        if x_bar1 > x_bar2:\n",
    "            H0 = 'A mean <= B mean'\n",
    "            H1 = 'A mean > B mean'\n",
    "        else:\n",
    "            H0 = 'A mean >= B mean'\n",
    "            H1 = 'A mean < B mean'\n",
    "            \n",
    "        pi_value = pi_value/2\n",
    "        \n",
    "\n",
    "    elif tail == 'two':\n",
    "        H0 = 'A mean = B mean'\n",
    "        H1 = 'A mean != B mean'\n",
    "    \n",
    "    #Note that to find a two-tailed test p-value we simply multiply the p-value of the one-tailed p-value by two.\n",
    "    print(f\"H0 : {H0}\")\n",
    "    print(f\"H1 : {H1}\\n\")\n",
    "    \n",
    "    print(f\"\"\"\n",
    "    Group 1 mean: {np.round(x_bar1,2)}\n",
    "    Group 2 mean: {np.round(x_bar2,2)}\n",
    "    t-score: {np.round(t_score,5)}    \n",
    "    p_value: {pi_value}    \n",
    "       \n",
    "    \"\"\")    \n",
    "        \n",
    "    if pi_value < alpha:\n",
    "        print(f\"Rejecting null hyphotheses: {H1}\")\n",
    "    else:\n",
    "        print(f\"Not enough evidence to reject Null Hyphothesis: {H0}\")"
   ]
  },
  {
   "cell_type": "markdown",
   "metadata": {},
   "source": [
    " Heart rate check - Emotion Category"
   ]
  },
  {
   "cell_type": "code",
   "execution_count": 60,
   "metadata": {},
   "outputs": [
    {
     "name": "stdout",
     "output_type": "stream",
     "text": [
      "Sadness vs Fear\n",
      "T-score or p-value calculation Error...\n",
      "H0 : A mean = B mean\n",
      "H1 : A mean != B mean\n",
      "\n",
      "\n",
      "    Group 1 mean: 95.26\n",
      "    Group 2 mean: 94.27\n",
      "    t-score: 0.42702    \n",
      "    p_value: 0.6711306662323016    \n",
      "       \n",
      "    \n",
      "Not enough evidence to reject Null Hyphothesis: A mean = B mean\n",
      "Sadness vs Happiness\n",
      "T-score or p-value calculation Error...\n",
      "H0 : A mean = B mean\n",
      "H1 : A mean != B mean\n",
      "\n",
      "\n",
      "    Group 1 mean: 95.26\n",
      "    Group 2 mean: 95.23\n",
      "    t-score: 0.01211    \n",
      "    p_value: 0.9903893569392399    \n",
      "       \n",
      "    \n",
      "Not enough evidence to reject Null Hyphothesis: A mean = B mean\n",
      "Fear vs Happiness\n",
      "T-score or p-value calculation Error...\n",
      "H0 : A mean = B mean\n",
      "H1 : A mean != B mean\n",
      "\n",
      "\n",
      "    Group 1 mean: 95.23\n",
      "    Group 2 mean: 94.27\n",
      "    t-score: 0.46034    \n",
      "    p_value: 0.6468831170398313    \n",
      "       \n",
      "    \n",
      "Not enough evidence to reject Null Hyphothesis: A mean = B mean\n"
     ]
    }
   ],
   "source": [
    "df_fear,df_sadness,df_happiness = create_emotion_df(df_researchdata)\n",
    "\n",
    "print('Sadness vs Fear')\n",
    "sadvsfear = two_sample_ind_t_test(df_sadness.heart_ratemean, df_fear.heart_ratemean, \n",
    "                                        tail=\"two\", alpha=0.05)\n",
    "\n",
    "print('Sadness vs Happiness')\n",
    "sadvshappy = two_sample_ind_t_test(df_sadness.heart_ratemean, df_happiness.heart_ratemean, \n",
    "                                        tail=\"two\", alpha=0.05)\n",
    "\n",
    "print('Fear vs Happiness')\n",
    "fearvshappy = two_sample_ind_t_test(df_happiness.heart_ratemean, df_fear.heart_ratemean, \n",
    "                                        tail=\"two\", alpha=0.05)"
   ]
  },
  {
   "cell_type": "markdown",
   "metadata": {},
   "source": [
    "Skin temperature check - Emotion Category"
   ]
  },
  {
   "cell_type": "code",
   "execution_count": 61,
   "metadata": {},
   "outputs": [
    {
     "name": "stdout",
     "output_type": "stream",
     "text": [
      "Sadness vs Fear\n",
      "T-score or p-value calculation Error...\n",
      "H0 : A mean = B mean\n",
      "H1 : A mean != B mean\n",
      "\n",
      "\n",
      "    Group 1 mean: 1.57\n",
      "    Group 2 mean: 1.56\n",
      "    t-score: 1.02742    \n",
      "    p_value: 0.30897904751665395    \n",
      "       \n",
      "    \n",
      "Not enough evidence to reject Null Hyphothesis: A mean = B mean\n",
      "Sadness vs Happiness\n",
      "T-score or p-value calculation Error...\n",
      "H0 : A mean = B mean\n",
      "H1 : A mean != B mean\n",
      "\n",
      "\n",
      "    Group 1 mean: 1.57\n",
      "    Group 2 mean: 1.57\n",
      "    t-score: 0.24547    \n",
      "    p_value: 0.8071816532958339    \n",
      "       \n",
      "    \n",
      "Not enough evidence to reject Null Hyphothesis: A mean = B mean\n",
      "Fear vs Happiness\n",
      "T-score or p-value calculation Error...\n",
      "H0 : A mean = B mean\n",
      "H1 : A mean != B mean\n",
      "\n",
      "\n",
      "    Group 1 mean: 1.57\n",
      "    Group 2 mean: 1.56\n",
      "    t-score: 0.89236    \n",
      "    p_value: 0.3756512465066364    \n",
      "       \n",
      "    \n",
      "Not enough evidence to reject Null Hyphothesis: A mean = B mean\n"
     ]
    }
   ],
   "source": [
    "df_fear,df_sadness,df_happiness = create_emotion_df(df_researchdata)\n",
    "\n",
    "print('Sadness vs Fear')\n",
    "sadvsfear = two_sample_ind_t_test(df_sadness.skin_tempmean, df_fear.skin_tempmean, \n",
    "                                        tail=\"two\", alpha=0.05)\n",
    "\n",
    "print('Sadness vs Happiness')\n",
    "sadvshappy = two_sample_ind_t_test(df_sadness.skin_tempmean, df_happiness.skin_tempmean, \n",
    "                                        tail=\"two\", alpha=0.05)\n",
    "\n",
    "print('Fear vs Happiness')\n",
    "fearvshappy = two_sample_ind_t_test(df_happiness.skin_tempmean, df_fear.skin_tempmean, \n",
    "                                        tail=\"two\", alpha=0.05)"
   ]
  },
  {
   "cell_type": "markdown",
   "metadata": {},
   "source": [
    " Heart rate check - Sound group category"
   ]
  },
  {
   "cell_type": "code",
   "execution_count": null,
   "metadata": {},
   "outputs": [],
   "source": [
    "df_animal, df_nature,df_transport,df_people = create_soundgrp_df(df_researchdata)\n",
    "\n",
    "print('animal vs nature')\n",
    "sadvsfear = two_sample_ind_t_test(df_sadness.heart_ratemean, df_fear.heart_ratemean, \n",
    "                                        tail=\"two\", alpha=0.05)\n",
    "\n",
    "print('Sadness vs Happiness')\n",
    "sadvshappy = two_sample_ind_t_test(df_sadness.heart_ratemean, df_happiness.heart_ratemean, \n",
    "                                        tail=\"two\", alpha=0.05)\n",
    "\n",
    "print('Fear vs Happiness')\n",
    "fearvshappy = two_sample_ind_t_test(df_happiness.heart_ratemean, df_fear.heart_ratemean, \n",
    "                                        tail=\"two\", alpha=0.05)"
   ]
  },
  {
   "cell_type": "markdown",
   "metadata": {},
   "source": [
    "Skin temp check - Sound group category"
   ]
  },
  {
   "cell_type": "code",
   "execution_count": null,
   "metadata": {},
   "outputs": [],
   "source": []
  },
  {
   "cell_type": "markdown",
   "metadata": {},
   "source": [
    "### ANOVA"
   ]
  },
  {
   "cell_type": "code",
   "execution_count": 63,
   "metadata": {},
   "outputs": [],
   "source": [
    "def anova(*args, alpha = 0.05):\n",
    "    H0 = 'There is no significant difference between the groups'\n",
    "    H1 = 'There is a significant difference between the groups'\n",
    "    \n",
    "    F, pi_value = st.f_oneway(*args)\n",
    "    print(f\"H0 : {H0}\")\n",
    "    print(f\"H1 : {H1}\\n\")\n",
    "    \n",
    "    print(\n",
    "    f\"\"\"\n",
    "    F-score: {(np.round(F,5))}    \n",
    "    p_value: {pi_value}\"\"\")  \n",
    "    \n",
    "    n = 0\n",
    "    for g in range(len(args)):\n",
    "        n+= len(args[g])\n",
    "        print(\n",
    "    f\"\"\"    Group{g} mean : {np.round(np.mean(args[g]),2)}\"\"\")\n",
    "        \n",
    "    #pi_value_calc\n",
    "#     k = len(args)\n",
    "#     my_pi_value = 1 - st.f.cdf(F,  k-1, n-k)\n",
    "    \n",
    "    if pi_value < alpha:\n",
    "        print(f\"\\nRejecting null hyphotheses: {H1}\")\n",
    "    else:\n",
    "        print(f\"\\nNot enough evidence to reject Null Hyphothesis: {H0}\")"
   ]
  },
  {
   "cell_type": "markdown",
   "metadata": {},
   "source": [
    "Heartrate Check - Emotion Category"
   ]
  },
  {
   "cell_type": "code",
   "execution_count": 67,
   "metadata": {},
   "outputs": [
    {
     "name": "stdout",
     "output_type": "stream",
     "text": [
      "H0 : There is no significant difference between the groups\n",
      "H1 : There is a significant difference between the groups\n",
      "\n",
      "\n",
      "    F-score: 0.13116    \n",
      "    p_value: 0.8772687372852738\n",
      "    Group0 mean : 94.27\n",
      "    Group1 mean : 95.26\n",
      "    Group2 mean : 95.23\n",
      "\n",
      "Not enough evidence to reject Null Hyphothesis: There is no significant difference between the groups\n"
     ]
    }
   ],
   "source": [
    "df_fear,df_sadness,df_happiness = create_emotion_df(df_researchdata)\n",
    "anova(df_fear.heart_ratemean,df_sadness.heart_ratemean,df_happiness.heart_ratemean)   \n"
   ]
  },
  {
   "cell_type": "markdown",
   "metadata": {},
   "source": [
    "Skin Temperature Check - Emotion Category"
   ]
  },
  {
   "cell_type": "code",
   "execution_count": 68,
   "metadata": {},
   "outputs": [
    {
     "name": "stdout",
     "output_type": "stream",
     "text": [
      "H0 : There is no significant difference between the groups\n",
      "H1 : There is a significant difference between the groups\n",
      "\n",
      "\n",
      "    F-score: nan    \n",
      "    p_value: nan\n",
      "    Group0 mean : nan\n",
      "    Group1 mean : 91.96\n",
      "    Group2 mean : 95.08\n",
      "    Group3 mean : 97.62\n",
      "\n",
      "Not enough evidence to reject Null Hyphothesis: There is no significant difference between the groups\n"
     ]
    },
    {
     "name": "stderr",
     "output_type": "stream",
     "text": [
      "/Users/olumide/Documents/Dissertation/Sound Stimuli version 1/venv/lib/python3.9/site-packages/scipy/stats/_stats_py.py:3630: F_onewayBadInputSizesWarning: at least one input has length 0\n",
      "  warnings.warn(F_onewayBadInputSizesWarning('at least one input '\n"
     ]
    }
   ],
   "source": [
    "df_animal, df_nature,df_transport,df_people = create_soundgrp_df(df_researchdata)\n",
    "anova(df_animal.heart_ratemean,df_nature.heart_ratemean,df_transport.heart_ratemean,df_people.heart_ratemean)   "
   ]
  },
  {
   "cell_type": "markdown",
   "metadata": {},
   "source": [
    "## Non-Parametric Tests"
   ]
  },
  {
   "cell_type": "markdown",
   "metadata": {},
   "source": [
    "### Mann Whitney Test"
   ]
  },
  {
   "cell_type": "code",
   "execution_count": 69,
   "metadata": {},
   "outputs": [],
   "source": [
    "def mann_whiteneyu(data1, data2):\n",
    "\tstat, p = mannwhitneyu(data1, data2)\n",
    "\tprint('Statistics=%.3f, p=%.3f' % (stat, p))\n",
    "\t# interpret\n",
    "\talpha = 0.05\n",
    "\tif p > alpha:\n",
    "\t\tprint('Same distribution (fail to reject H0)')\n",
    "\telse:\n",
    "\t\tprint('Different distribution (reject H0)')"
   ]
  },
  {
   "cell_type": "code",
   "execution_count": 71,
   "metadata": {},
   "outputs": [
    {
     "name": "stdout",
     "output_type": "stream",
     "text": [
      "Sadness vs Fear\n",
      "Statistics=364.500, p=0.568\n",
      "Same distribution (fail to reject H0)\n",
      "Sadness vs Happiness\n",
      "Statistics=245.500, p=0.534\n",
      "Same distribution (fail to reject H0)\n",
      "Fear vs Happiness\n",
      "Statistics=614.000, p=0.153\n",
      "Same distribution (fail to reject H0)\n"
     ]
    }
   ],
   "source": [
    "df_fear,df_sadness,df_happiness = create_emotion_df(df_researchdata)\n",
    "\n",
    "print('Sadness vs Fear')\n",
    "sadvsfear = mann_whiteneyu(df_sadness.heart_ratemean, df_fear.heart_ratemean)\n",
    "\n",
    "print('Sadness vs Happiness')\n",
    "sadvshappy = mann_whiteneyu(df_sadness.heart_ratemean, df_happiness.heart_ratemean)\n",
    "\n",
    "print('Fear vs Happiness')\n",
    "fearvshappy = mann_whiteneyu(df_happiness.heart_ratemean, df_fear.heart_ratemean)"
   ]
  },
  {
   "cell_type": "markdown",
   "metadata": {},
   "source": [
    "### Wilcoxon test"
   ]
  },
  {
   "cell_type": "code",
   "execution_count": 73,
   "metadata": {},
   "outputs": [],
   "source": [
    "def wilcoxon_test(data1,data2):\n",
    "\tstat, p = wilcoxon(data1,data2)\n",
    "\tprint('Statistics=%.3f, p=%.3f' % (stat, p))\n",
    "\t# interpret\n",
    "\talpha = 0.05\n",
    "\tif p > alpha:\n",
    "\t\tprint('Same distribution (fail to reject H0)')\n",
    "\telse:\n",
    "\t\tprint('Different distribution (reject H0)')"
   ]
  },
  {
   "cell_type": "code",
   "execution_count": 74,
   "metadata": {},
   "outputs": [
    {
     "name": "stdout",
     "output_type": "stream",
     "text": [
      "Sadness vs Fear\n"
     ]
    },
    {
     "ename": "ValueError",
     "evalue": "The samples x and y must have the same length.",
     "output_type": "error",
     "traceback": [
      "\u001b[0;31m---------------------------------------------------------------------------\u001b[0m",
      "\u001b[0;31mValueError\u001b[0m                                Traceback (most recent call last)",
      "\u001b[1;32m/Users/olumide/Documents/Dissertation/Sound Stimuli version 1/Data Analysis Version 2.ipynb Cell 49\u001b[0m in \u001b[0;36m<cell line: 4>\u001b[0;34m()\u001b[0m\n\u001b[1;32m      <a href='vscode-notebook-cell:/Users/olumide/Documents/Dissertation/Sound%20Stimuli%20version%201/Data%20Analysis%20Version%202.ipynb#ch0000079?line=0'>1</a>\u001b[0m df_fear,df_sadness,df_happiness \u001b[39m=\u001b[39m create_emotion_df(df_researchdata)\n\u001b[1;32m      <a href='vscode-notebook-cell:/Users/olumide/Documents/Dissertation/Sound%20Stimuli%20version%201/Data%20Analysis%20Version%202.ipynb#ch0000079?line=2'>3</a>\u001b[0m \u001b[39mprint\u001b[39m(\u001b[39m'\u001b[39m\u001b[39mSadness vs Fear\u001b[39m\u001b[39m'\u001b[39m)\n\u001b[0;32m----> <a href='vscode-notebook-cell:/Users/olumide/Documents/Dissertation/Sound%20Stimuli%20version%201/Data%20Analysis%20Version%202.ipynb#ch0000079?line=3'>4</a>\u001b[0m sadvsfear \u001b[39m=\u001b[39m wilcoxon_test(df_sadness\u001b[39m.\u001b[39;49mheart_ratemean, df_fear\u001b[39m.\u001b[39;49mheart_ratemean)\n\u001b[1;32m      <a href='vscode-notebook-cell:/Users/olumide/Documents/Dissertation/Sound%20Stimuli%20version%201/Data%20Analysis%20Version%202.ipynb#ch0000079?line=5'>6</a>\u001b[0m \u001b[39mprint\u001b[39m(\u001b[39m'\u001b[39m\u001b[39mSadness vs Happiness\u001b[39m\u001b[39m'\u001b[39m)\n\u001b[1;32m      <a href='vscode-notebook-cell:/Users/olumide/Documents/Dissertation/Sound%20Stimuli%20version%201/Data%20Analysis%20Version%202.ipynb#ch0000079?line=6'>7</a>\u001b[0m sadvshappy \u001b[39m=\u001b[39m wilcoxon_test(df_sadness\u001b[39m.\u001b[39mheart_ratemean, df_happiness\u001b[39m.\u001b[39mheart_ratemean)\n",
      "\u001b[1;32m/Users/olumide/Documents/Dissertation/Sound Stimuli version 1/Data Analysis Version 2.ipynb Cell 49\u001b[0m in \u001b[0;36mwilcoxon_test\u001b[0;34m(data1, data2)\u001b[0m\n\u001b[1;32m      <a href='vscode-notebook-cell:/Users/olumide/Documents/Dissertation/Sound%20Stimuli%20version%201/Data%20Analysis%20Version%202.ipynb#ch0000079?line=0'>1</a>\u001b[0m \u001b[39mdef\u001b[39;00m \u001b[39mwilcoxon_test\u001b[39m(data1,data2):\n\u001b[0;32m----> <a href='vscode-notebook-cell:/Users/olumide/Documents/Dissertation/Sound%20Stimuli%20version%201/Data%20Analysis%20Version%202.ipynb#ch0000079?line=1'>2</a>\u001b[0m \tstat, p \u001b[39m=\u001b[39m wilcoxon(data1,data2)\n\u001b[1;32m      <a href='vscode-notebook-cell:/Users/olumide/Documents/Dissertation/Sound%20Stimuli%20version%201/Data%20Analysis%20Version%202.ipynb#ch0000079?line=2'>3</a>\u001b[0m \t\u001b[39mprint\u001b[39m(\u001b[39m'\u001b[39m\u001b[39mStatistics=\u001b[39m\u001b[39m%.3f\u001b[39;00m\u001b[39m, p=\u001b[39m\u001b[39m%.3f\u001b[39;00m\u001b[39m'\u001b[39m \u001b[39m%\u001b[39m (stat, p))\n\u001b[1;32m      <a href='vscode-notebook-cell:/Users/olumide/Documents/Dissertation/Sound%20Stimuli%20version%201/Data%20Analysis%20Version%202.ipynb#ch0000079?line=3'>4</a>\u001b[0m \t\u001b[39m# interpret\u001b[39;00m\n",
      "File \u001b[0;32m~/Documents/Dissertation/Sound Stimuli version 1/venv/lib/python3.9/site-packages/scipy/stats/_axis_nan_policy.py:270\u001b[0m, in \u001b[0;36m_axis_nan_policy_factory.<locals>.axis_nan_policy_decorator.<locals>.axis_nan_policy_wrapper\u001b[0;34m(***failed resolving arguments***)\u001b[0m\n\u001b[1;32m    262\u001b[0m         samples \u001b[39m=\u001b[39m _remove_nans(samples, paired)\n\u001b[1;32m    264\u001b[0m     \u001b[39m# ideally, this is what the behavior would be, but some\u001b[39;00m\n\u001b[1;32m    265\u001b[0m     \u001b[39m# existing functions raise exceptions, so overriding it\u001b[39;00m\n\u001b[1;32m    266\u001b[0m     \u001b[39m# would break backward compatibility.\u001b[39;00m\n\u001b[1;32m    267\u001b[0m     \u001b[39m# if is_too_small(samples):\u001b[39;00m\n\u001b[1;32m    268\u001b[0m     \u001b[39m#     return result_object(np.nan, np.nan)\u001b[39;00m\n\u001b[0;32m--> 270\u001b[0m     \u001b[39mreturn\u001b[39;00m hypotest_fun_in(\u001b[39m*\u001b[39;49msamples, \u001b[39m*\u001b[39;49m\u001b[39m*\u001b[39;49mkwds)\n\u001b[1;32m    272\u001b[0m \u001b[39m# check for empty input\u001b[39;00m\n\u001b[1;32m    273\u001b[0m \u001b[39m# ideally, move this to the top, but some existing functions raise\u001b[39;00m\n\u001b[1;32m    274\u001b[0m \u001b[39m# exceptions for empty input, so overriding it would break\u001b[39;00m\n\u001b[1;32m    275\u001b[0m \u001b[39m# backward compatibility.\u001b[39;00m\n\u001b[1;32m    276\u001b[0m empty_output \u001b[39m=\u001b[39m _check_empty_inputs(samples, axis)\n",
      "File \u001b[0;32m~/Documents/Dissertation/Sound Stimuli version 1/venv/lib/python3.9/site-packages/scipy/stats/_morestats.py:3133\u001b[0m, in \u001b[0;36mwilcoxon\u001b[0;34m(x, y, zero_method, correction, alternative, mode)\u001b[0m\n\u001b[1;32m   3131\u001b[0m         \u001b[39mraise\u001b[39;00m \u001b[39mValueError\u001b[39;00m(\u001b[39m'\u001b[39m\u001b[39mSamples x and y must be one-dimensional.\u001b[39m\u001b[39m'\u001b[39m)\n\u001b[1;32m   3132\u001b[0m     \u001b[39mif\u001b[39;00m \u001b[39mlen\u001b[39m(x) \u001b[39m!=\u001b[39m \u001b[39mlen\u001b[39m(y):\n\u001b[0;32m-> 3133\u001b[0m         \u001b[39mraise\u001b[39;00m \u001b[39mValueError\u001b[39;00m(\u001b[39m'\u001b[39m\u001b[39mThe samples x and y must have the same length.\u001b[39m\u001b[39m'\u001b[39m)\n\u001b[1;32m   3134\u001b[0m     d \u001b[39m=\u001b[39m x \u001b[39m-\u001b[39m y\n\u001b[1;32m   3136\u001b[0m \u001b[39mif\u001b[39;00m mode \u001b[39m==\u001b[39m \u001b[39m\"\u001b[39m\u001b[39mauto\u001b[39m\u001b[39m\"\u001b[39m:\n",
      "\u001b[0;31mValueError\u001b[0m: The samples x and y must have the same length."
     ]
    }
   ],
   "source": [
    "df_fear,df_sadness,df_happiness = create_emotion_df(df_researchdata)\n",
    "\n",
    "print('Sadness vs Fear')\n",
    "sadvsfear = wilcoxon_test(df_sadness.heart_ratemean, df_fear.heart_ratemean)\n",
    "\n",
    "print('Sadness vs Happiness')\n",
    "sadvshappy = wilcoxon_test(df_sadness.heart_ratemean, df_happiness.heart_ratemean)\n",
    "\n",
    "print('Fear vs Happiness')\n",
    "fearvshappy = wilcoxon_test(df_happiness.heart_ratemean, df_fear.heart_ratemean)"
   ]
  }
 ],
 "metadata": {
  "kernelspec": {
   "display_name": "Python 3.9.13 ('venv': venv)",
   "language": "python",
   "name": "python3"
  },
  "language_info": {
   "codemirror_mode": {
    "name": "ipython",
    "version": 3
   },
   "file_extension": ".py",
   "mimetype": "text/x-python",
   "name": "python",
   "nbconvert_exporter": "python",
   "pygments_lexer": "ipython3",
   "version": "3.9.13"
  },
  "orig_nbformat": 4,
  "vscode": {
   "interpreter": {
    "hash": "1708efda55cb6d4aeb89181de40d53c5ba9d56028be66cf6cf1da196ab6b8121"
   }
  }
 },
 "nbformat": 4,
 "nbformat_minor": 2
}
