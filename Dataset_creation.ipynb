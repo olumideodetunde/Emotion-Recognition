{
 "cells": [
  {
   "cell_type": "code",
   "execution_count": 1,
   "metadata": {},
   "outputs": [],
   "source": [
    "from datetime import timedelta\n",
    "from datetime import datetime\n",
    "import pandas as pd"
   ]
  },
  {
   "cell_type": "markdown",
   "metadata": {},
   "source": [
    "## Load data labels"
   ]
  },
  {
   "cell_type": "code",
   "execution_count": 2,
   "metadata": {},
   "outputs": [
    {
     "name": "stdout",
     "output_type": "stream",
     "text": [
      "SoundID                  object\n",
      "Starttime        datetime64[ns]\n",
      "Emotion                  object\n",
      "Emotionrating             int64\n",
      "Endtime          datetime64[ns]\n",
      "datetime         datetime64[ns]\n",
      "dtype: object\n"
     ]
    },
    {
     "data": {
      "text/html": [
       "<div>\n",
       "<style scoped>\n",
       "    .dataframe tbody tr th:only-of-type {\n",
       "        vertical-align: middle;\n",
       "    }\n",
       "\n",
       "    .dataframe tbody tr th {\n",
       "        vertical-align: top;\n",
       "    }\n",
       "\n",
       "    .dataframe thead th {\n",
       "        text-align: right;\n",
       "    }\n",
       "</style>\n",
       "<table border=\"1\" class=\"dataframe\">\n",
       "  <thead>\n",
       "    <tr style=\"text-align: right;\">\n",
       "      <th></th>\n",
       "      <th>SoundID</th>\n",
       "      <th>Starttime</th>\n",
       "      <th>Emotion</th>\n",
       "      <th>Emotionrating</th>\n",
       "      <th>Endtime</th>\n",
       "      <th>datetime</th>\n",
       "    </tr>\n",
       "  </thead>\n",
       "  <tbody>\n",
       "    <tr>\n",
       "      <th>0</th>\n",
       "      <td>0319_2</td>\n",
       "      <td>2022-06-15 18:51:47</td>\n",
       "      <td>Fear</td>\n",
       "      <td>5</td>\n",
       "      <td>2022-06-15 18:51:58</td>\n",
       "      <td>2022-06-15 18:51:53</td>\n",
       "    </tr>\n",
       "    <tr>\n",
       "      <th>1</th>\n",
       "      <td>0617_2</td>\n",
       "      <td>2022-06-15 18:52:00</td>\n",
       "      <td>Fear</td>\n",
       "      <td>4</td>\n",
       "      <td>2022-06-15 18:52:14</td>\n",
       "      <td>2022-06-15 18:52:06</td>\n",
       "    </tr>\n",
       "    <tr>\n",
       "      <th>2</th>\n",
       "      <td>0124_2</td>\n",
       "      <td>2022-06-15 18:52:16</td>\n",
       "      <td>Happiness</td>\n",
       "      <td>4</td>\n",
       "      <td>2022-06-15 18:52:32</td>\n",
       "      <td>2022-06-15 18:52:22</td>\n",
       "    </tr>\n",
       "    <tr>\n",
       "      <th>3</th>\n",
       "      <td>0533_2</td>\n",
       "      <td>2022-06-15 18:52:35</td>\n",
       "      <td>Sadness</td>\n",
       "      <td>4</td>\n",
       "      <td>2022-06-15 18:52:49</td>\n",
       "      <td>2022-06-15 18:52:41</td>\n",
       "    </tr>\n",
       "    <tr>\n",
       "      <th>4</th>\n",
       "      <td>0194_2</td>\n",
       "      <td>2022-06-15 18:52:50</td>\n",
       "      <td>Fear</td>\n",
       "      <td>5</td>\n",
       "      <td>2022-06-15 18:53:07</td>\n",
       "      <td>2022-06-15 18:52:56</td>\n",
       "    </tr>\n",
       "  </tbody>\n",
       "</table>\n",
       "</div>"
      ],
      "text/plain": [
       "  SoundID           Starttime    Emotion  Emotionrating             Endtime  \\\n",
       "0  0319_2 2022-06-15 18:51:47       Fear              5 2022-06-15 18:51:58   \n",
       "1  0617_2 2022-06-15 18:52:00       Fear              4 2022-06-15 18:52:14   \n",
       "2  0124_2 2022-06-15 18:52:16  Happiness              4 2022-06-15 18:52:32   \n",
       "3  0533_2 2022-06-15 18:52:35    Sadness              4 2022-06-15 18:52:49   \n",
       "4  0194_2 2022-06-15 18:52:50       Fear              5 2022-06-15 18:53:07   \n",
       "\n",
       "             datetime  \n",
       "0 2022-06-15 18:51:53  \n",
       "1 2022-06-15 18:52:06  \n",
       "2 2022-06-15 18:52:22  \n",
       "3 2022-06-15 18:52:41  \n",
       "4 2022-06-15 18:52:56  "
      ]
     },
     "execution_count": 2,
     "metadata": {},
     "output_type": "execute_result"
    }
   ],
   "source": [
    "df_dl = pd.read_excel(\"../Excel Database.xlsx\")\n",
    "df_dl[[\"Starttime\",\"Endtime\"]] = df_dl[[\"Starttime\",\"Endtime\"]].apply(pd.to_datetime)\n",
    "# df_dl.set_index(\"SoundID\", inplace=True)\n",
    "df_dl[\"datetime\"] = df_dl[\"Starttime\"] + timedelta(seconds = 6)\n",
    "df_dl.drop([\"UserID\",\"Soundgroup\",\"Soundgroupselection\"], axis=1, inplace=True)\n",
    "\n",
    "\n",
    "\n",
    "print(df_dl.dtypes)\n",
    "df_dl.head()"
   ]
  },
  {
   "cell_type": "markdown",
   "metadata": {},
   "source": [
    "## Load physiological signals"
   ]
  },
  {
   "cell_type": "code",
   "execution_count": 3,
   "metadata": {},
   "outputs": [
    {
     "data": {
      "text/html": [
       "<div>\n",
       "<style scoped>\n",
       "    .dataframe tbody tr th:only-of-type {\n",
       "        vertical-align: middle;\n",
       "    }\n",
       "\n",
       "    .dataframe tbody tr th {\n",
       "        vertical-align: top;\n",
       "    }\n",
       "\n",
       "    .dataframe thead th {\n",
       "        text-align: right;\n",
       "    }\n",
       "</style>\n",
       "<table border=\"1\" class=\"dataframe\">\n",
       "  <thead>\n",
       "    <tr style=\"text-align: right;\">\n",
       "      <th></th>\n",
       "      <th>datetime</th>\n",
       "      <th>bo_Infrared to Red Signal Ratio</th>\n",
       "    </tr>\n",
       "  </thead>\n",
       "  <tbody>\n",
       "    <tr>\n",
       "      <th>0</th>\n",
       "      <td>2022-06-15 19:09:30</td>\n",
       "      <td>-9</td>\n",
       "    </tr>\n",
       "    <tr>\n",
       "      <th>0</th>\n",
       "      <td>2022-06-15 19:09:30</td>\n",
       "      <td>-9</td>\n",
       "    </tr>\n",
       "    <tr>\n",
       "      <th>0</th>\n",
       "      <td>2022-06-15 19:09:30</td>\n",
       "      <td>-9</td>\n",
       "    </tr>\n",
       "    <tr>\n",
       "      <th>0</th>\n",
       "      <td>2022-06-15 19:09:30</td>\n",
       "      <td>-9</td>\n",
       "    </tr>\n",
       "    <tr>\n",
       "      <th>0</th>\n",
       "      <td>2022-06-15 19:09:30</td>\n",
       "      <td>-9</td>\n",
       "    </tr>\n",
       "  </tbody>\n",
       "</table>\n",
       "</div>"
      ],
      "text/plain": [
       "             datetime  bo_Infrared to Red Signal Ratio\n",
       "0 2022-06-15 19:09:30                               -9\n",
       "0 2022-06-15 19:09:30                               -9\n",
       "0 2022-06-15 19:09:30                               -9\n",
       "0 2022-06-15 19:09:30                               -9\n",
       "0 2022-06-15 19:09:30                               -9"
      ]
     },
     "execution_count": 3,
     "metadata": {},
     "output_type": "execute_result"
    }
   ],
   "source": [
    "df_hr = pd.read_csv(\"../hr.csv\")\n",
    "df_hr.drop([\"Unnamed: 0\",\"confidence\"], axis=1, inplace=True)\n",
    "df_hr[\"datetime\"] = pd.to_datetime(df_hr[\"datetime\"])\n",
    "\n",
    "df_skt = pd.read_csv(\"../skintemp.csv\")\n",
    "df_skt = df_skt.loc[df_skt.index.repeat(12)] #repeat index 12 times \n",
    "df_skt.drop(\"Unnamed: 0\", axis=1, inplace=True)\n",
    "df_skt[\"datetime\"] = pd.to_datetime(df_skt[\"datetime\"])\n",
    "# df_skt[\"test_datetime\"] = df_skt[\"datetime\"] #used to test the alignment of the physiological signals\n",
    "\n",
    "df_bo = pd.read_csv(\"../bo.csv\")\n",
    "df_bo = df_bo.loc[df_bo.index.repeat(12)] #repeat index 12 times \n",
    "df_bo.drop(\"Unnamed: 0\", axis=1, inplace=True)\n",
    "df_bo[\"datetime\"] = pd.to_datetime(df_bo[\"datetime\"])\n",
    "# df_bo[\"test_datetime\"] = df_bo[\"datetime\"] #used to test the alignment of the physiological signals\n",
    "df_bo.head()\n",
    "\n"
   ]
  },
  {
   "cell_type": "markdown",
   "metadata": {},
   "source": [
    "### Merge the signals first"
   ]
  },
  {
   "cell_type": "code",
   "execution_count": 4,
   "metadata": {},
   "outputs": [
    {
     "name": "stdout",
     "output_type": "stream",
     "text": [
      "datetime            datetime64[ns]\n",
      "heart_rate                   int64\n",
      "skin_temp                  float64\n",
      "est_02_variation           float64\n",
      "dtype: object\n"
     ]
    }
   ],
   "source": [
    "df_phy = pd.merge_asof(df_hr,df_skt, on=\"datetime\",direction=\"backward\", tolerance=pd.Timedelta(seconds=60),allow_exact_matches=True)\n",
    "df_phy = pd.merge_asof(df_phy,df_bo, on=\"datetime\",direction=\"nearest\", tolerance=pd.Timedelta(seconds=60),allow_exact_matches=True)\n",
    "df_phy.rename(columns={\"bo_Infrared to Red Signal Ratio\":\"est_02_variation\", \"temperature\":\"skin_temp\",\"heartrate\":\"heart_rate\"}, inplace=True)\n",
    "# df_phy[\"test_datetime\"] = df_phy[\"datetime\"] #used to test the alignment of the physiological signals\n",
    "\n",
    "print(df_phy.dtypes)"
   ]
  },
  {
   "cell_type": "markdown",
   "metadata": {},
   "source": [
    "## Merge Signals and Labels"
   ]
  },
  {
   "cell_type": "markdown",
   "metadata": {},
   "source": [
    "### Divide data label into 3 (1st dataframe with startime, 2nd with startime + 6 seconds and 3rd with endtime)"
   ]
  },
  {
   "cell_type": "code",
   "execution_count": 5,
   "metadata": {},
   "outputs": [
    {
     "data": {
      "text/html": [
       "<div>\n",
       "<style scoped>\n",
       "    .dataframe tbody tr th:only-of-type {\n",
       "        vertical-align: middle;\n",
       "    }\n",
       "\n",
       "    .dataframe tbody tr th {\n",
       "        vertical-align: top;\n",
       "    }\n",
       "\n",
       "    .dataframe thead th {\n",
       "        text-align: right;\n",
       "    }\n",
       "</style>\n",
       "<table border=\"1\" class=\"dataframe\">\n",
       "  <thead>\n",
       "    <tr style=\"text-align: right;\">\n",
       "      <th></th>\n",
       "      <th>SoundID</th>\n",
       "      <th>datetime</th>\n",
       "      <th>Emotion</th>\n",
       "      <th>Emotionrating</th>\n",
       "    </tr>\n",
       "  </thead>\n",
       "  <tbody>\n",
       "    <tr>\n",
       "      <th>0</th>\n",
       "      <td>0319_2</td>\n",
       "      <td>2022-06-15 18:51:47</td>\n",
       "      <td>Fear</td>\n",
       "      <td>5</td>\n",
       "    </tr>\n",
       "    <tr>\n",
       "      <th>1</th>\n",
       "      <td>0617_2</td>\n",
       "      <td>2022-06-15 18:52:00</td>\n",
       "      <td>Fear</td>\n",
       "      <td>4</td>\n",
       "    </tr>\n",
       "    <tr>\n",
       "      <th>2</th>\n",
       "      <td>0124_2</td>\n",
       "      <td>2022-06-15 18:52:16</td>\n",
       "      <td>Happiness</td>\n",
       "      <td>4</td>\n",
       "    </tr>\n",
       "    <tr>\n",
       "      <th>3</th>\n",
       "      <td>0533_2</td>\n",
       "      <td>2022-06-15 18:52:35</td>\n",
       "      <td>Sadness</td>\n",
       "      <td>4</td>\n",
       "    </tr>\n",
       "    <tr>\n",
       "      <th>4</th>\n",
       "      <td>0194_2</td>\n",
       "      <td>2022-06-15 18:52:50</td>\n",
       "      <td>Fear</td>\n",
       "      <td>5</td>\n",
       "    </tr>\n",
       "  </tbody>\n",
       "</table>\n",
       "</div>"
      ],
      "text/plain": [
       "  SoundID            datetime    Emotion  Emotionrating\n",
       "0  0319_2 2022-06-15 18:51:47       Fear              5\n",
       "1  0617_2 2022-06-15 18:52:00       Fear              4\n",
       "2  0124_2 2022-06-15 18:52:16  Happiness              4\n",
       "3  0533_2 2022-06-15 18:52:35    Sadness              4\n",
       "4  0194_2 2022-06-15 18:52:50       Fear              5"
      ]
     },
     "execution_count": 5,
     "metadata": {},
     "output_type": "execute_result"
    }
   ],
   "source": [
    "#Dataframe with Starttime\n",
    "df_dl_start = df_dl.drop([\"datetime\",\"Endtime\"], axis=1)\n",
    "df_dl_start.rename(columns={\"Starttime\":\"datetime\"}, inplace=True)\n",
    "df_dl_start.head()\n"
   ]
  },
  {
   "cell_type": "code",
   "execution_count": 6,
   "metadata": {},
   "outputs": [
    {
     "data": {
      "text/html": [
       "<div>\n",
       "<style scoped>\n",
       "    .dataframe tbody tr th:only-of-type {\n",
       "        vertical-align: middle;\n",
       "    }\n",
       "\n",
       "    .dataframe tbody tr th {\n",
       "        vertical-align: top;\n",
       "    }\n",
       "\n",
       "    .dataframe thead th {\n",
       "        text-align: right;\n",
       "    }\n",
       "</style>\n",
       "<table border=\"1\" class=\"dataframe\">\n",
       "  <thead>\n",
       "    <tr style=\"text-align: right;\">\n",
       "      <th></th>\n",
       "      <th>SoundID</th>\n",
       "      <th>Emotion</th>\n",
       "      <th>Emotionrating</th>\n",
       "      <th>datetime</th>\n",
       "    </tr>\n",
       "  </thead>\n",
       "  <tbody>\n",
       "    <tr>\n",
       "      <th>0</th>\n",
       "      <td>0319_2</td>\n",
       "      <td>Fear</td>\n",
       "      <td>5</td>\n",
       "      <td>2022-06-15 18:51:53</td>\n",
       "    </tr>\n",
       "    <tr>\n",
       "      <th>1</th>\n",
       "      <td>0617_2</td>\n",
       "      <td>Fear</td>\n",
       "      <td>4</td>\n",
       "      <td>2022-06-15 18:52:06</td>\n",
       "    </tr>\n",
       "    <tr>\n",
       "      <th>2</th>\n",
       "      <td>0124_2</td>\n",
       "      <td>Happiness</td>\n",
       "      <td>4</td>\n",
       "      <td>2022-06-15 18:52:22</td>\n",
       "    </tr>\n",
       "    <tr>\n",
       "      <th>3</th>\n",
       "      <td>0533_2</td>\n",
       "      <td>Sadness</td>\n",
       "      <td>4</td>\n",
       "      <td>2022-06-15 18:52:41</td>\n",
       "    </tr>\n",
       "    <tr>\n",
       "      <th>4</th>\n",
       "      <td>0194_2</td>\n",
       "      <td>Fear</td>\n",
       "      <td>5</td>\n",
       "      <td>2022-06-15 18:52:56</td>\n",
       "    </tr>\n",
       "  </tbody>\n",
       "</table>\n",
       "</div>"
      ],
      "text/plain": [
       "  SoundID    Emotion  Emotionrating            datetime\n",
       "0  0319_2       Fear              5 2022-06-15 18:51:53\n",
       "1  0617_2       Fear              4 2022-06-15 18:52:06\n",
       "2  0124_2  Happiness              4 2022-06-15 18:52:22\n",
       "3  0533_2    Sadness              4 2022-06-15 18:52:41\n",
       "4  0194_2       Fear              5 2022-06-15 18:52:56"
      ]
     },
     "execution_count": 6,
     "metadata": {},
     "output_type": "execute_result"
    }
   ],
   "source": [
    "#Dataframe with starttime plus six seconds\n",
    "df_dl_after6sec = df_dl.drop([\"Starttime\",\"Endtime\"], axis=1)\n",
    "df_dl_after6sec.head()"
   ]
  },
  {
   "cell_type": "code",
   "execution_count": 7,
   "metadata": {},
   "outputs": [
    {
     "data": {
      "text/html": [
       "<div>\n",
       "<style scoped>\n",
       "    .dataframe tbody tr th:only-of-type {\n",
       "        vertical-align: middle;\n",
       "    }\n",
       "\n",
       "    .dataframe tbody tr th {\n",
       "        vertical-align: top;\n",
       "    }\n",
       "\n",
       "    .dataframe thead th {\n",
       "        text-align: right;\n",
       "    }\n",
       "</style>\n",
       "<table border=\"1\" class=\"dataframe\">\n",
       "  <thead>\n",
       "    <tr style=\"text-align: right;\">\n",
       "      <th></th>\n",
       "      <th>SoundID</th>\n",
       "      <th>Emotion</th>\n",
       "      <th>Emotionrating</th>\n",
       "      <th>datetime</th>\n",
       "    </tr>\n",
       "  </thead>\n",
       "  <tbody>\n",
       "    <tr>\n",
       "      <th>0</th>\n",
       "      <td>0319_2</td>\n",
       "      <td>Fear</td>\n",
       "      <td>5</td>\n",
       "      <td>2022-06-15 18:51:58</td>\n",
       "    </tr>\n",
       "    <tr>\n",
       "      <th>1</th>\n",
       "      <td>0617_2</td>\n",
       "      <td>Fear</td>\n",
       "      <td>4</td>\n",
       "      <td>2022-06-15 18:52:14</td>\n",
       "    </tr>\n",
       "    <tr>\n",
       "      <th>2</th>\n",
       "      <td>0124_2</td>\n",
       "      <td>Happiness</td>\n",
       "      <td>4</td>\n",
       "      <td>2022-06-15 18:52:32</td>\n",
       "    </tr>\n",
       "    <tr>\n",
       "      <th>3</th>\n",
       "      <td>0533_2</td>\n",
       "      <td>Sadness</td>\n",
       "      <td>4</td>\n",
       "      <td>2022-06-15 18:52:49</td>\n",
       "    </tr>\n",
       "    <tr>\n",
       "      <th>4</th>\n",
       "      <td>0194_2</td>\n",
       "      <td>Fear</td>\n",
       "      <td>5</td>\n",
       "      <td>2022-06-15 18:53:07</td>\n",
       "    </tr>\n",
       "  </tbody>\n",
       "</table>\n",
       "</div>"
      ],
      "text/plain": [
       "  SoundID    Emotion  Emotionrating            datetime\n",
       "0  0319_2       Fear              5 2022-06-15 18:51:58\n",
       "1  0617_2       Fear              4 2022-06-15 18:52:14\n",
       "2  0124_2  Happiness              4 2022-06-15 18:52:32\n",
       "3  0533_2    Sadness              4 2022-06-15 18:52:49\n",
       "4  0194_2       Fear              5 2022-06-15 18:53:07"
      ]
     },
     "execution_count": 7,
     "metadata": {},
     "output_type": "execute_result"
    }
   ],
   "source": [
    "#Dataframe with endtime\n",
    "df_dl_end = df_dl.drop([\"datetime\",\"Starttime\"], axis=1)\n",
    "df_dl_end.rename(columns={\"Endtime\":\"datetime\"},inplace=True)\n",
    "df_dl_end.head()"
   ]
  },
  {
   "cell_type": "markdown",
   "metadata": {},
   "source": [
    "### Merge each Label dataframe with combined physiological signals "
   ]
  },
  {
   "cell_type": "code",
   "execution_count": 25,
   "metadata": {},
   "outputs": [],
   "source": [
    "df_research_dataset_1 = pd.merge_asof(df_dl_start, df_phy, on=\"datetime\",direction=\"nearest\", tolerance=pd.Timedelta(seconds=3),allow_exact_matches=True)\n",
    "# df_research_dataset_1.set_index(\"SoundID\", inplace=True)\n",
    "\n",
    "df_research_dataset_2 = pd.merge_asof(df_dl_after6sec, df_phy, on=\"datetime\",direction=\"nearest\", tolerance=pd.Timedelta(seconds=3),allow_exact_matches=True)\n",
    "# df_research_dataset_2.set_index(\"SoundID\", inplace=True)\n",
    "\n",
    "df_research_dataset_3 = pd.merge_asof(df_dl_end, df_phy, on=\"datetime\",direction=\"nearest\", tolerance=pd.Timedelta(seconds=3),allow_exact_matches=True)\n",
    "# df_research_dataset_3.set_index(\"SoundID\", inplace=True)\n"
   ]
  },
  {
   "cell_type": "markdown",
   "metadata": {},
   "source": [
    "### Create a combined dataset"
   ]
  },
  {
   "cell_type": "code",
   "execution_count": 26,
   "metadata": {},
   "outputs": [
    {
     "data": {
      "text/html": [
       "<div>\n",
       "<style scoped>\n",
       "    .dataframe tbody tr th:only-of-type {\n",
       "        vertical-align: middle;\n",
       "    }\n",
       "\n",
       "    .dataframe tbody tr th {\n",
       "        vertical-align: top;\n",
       "    }\n",
       "\n",
       "    .dataframe thead th {\n",
       "        text-align: right;\n",
       "    }\n",
       "</style>\n",
       "<table border=\"1\" class=\"dataframe\">\n",
       "  <thead>\n",
       "    <tr style=\"text-align: right;\">\n",
       "      <th></th>\n",
       "      <th>SoundID</th>\n",
       "      <th>datetime</th>\n",
       "      <th>Emotion</th>\n",
       "      <th>Emotionrating</th>\n",
       "      <th>heart_rate</th>\n",
       "      <th>skin_temp</th>\n",
       "      <th>est_02_variation</th>\n",
       "    </tr>\n",
       "  </thead>\n",
       "  <tbody>\n",
       "    <tr>\n",
       "      <th>160</th>\n",
       "      <td>0085_2</td>\n",
       "      <td>2022-06-15 19:49:41</td>\n",
       "      <td>Sadness</td>\n",
       "      <td>1</td>\n",
       "      <td>102.0</td>\n",
       "      <td>1.539936</td>\n",
       "      <td>0.0</td>\n",
       "    </tr>\n",
       "    <tr>\n",
       "      <th>160</th>\n",
       "      <td>0085_2</td>\n",
       "      <td>2022-06-15 19:49:53</td>\n",
       "      <td>Sadness</td>\n",
       "      <td>1</td>\n",
       "      <td>NaN</td>\n",
       "      <td>NaN</td>\n",
       "      <td>NaN</td>\n",
       "    </tr>\n",
       "    <tr>\n",
       "      <th>160</th>\n",
       "      <td>0085_2</td>\n",
       "      <td>2022-06-15 19:49:47</td>\n",
       "      <td>Sadness</td>\n",
       "      <td>1</td>\n",
       "      <td>103.0</td>\n",
       "      <td>1.539936</td>\n",
       "      <td>0.0</td>\n",
       "    </tr>\n",
       "    <tr>\n",
       "      <th>8</th>\n",
       "      <td>0109_2</td>\n",
       "      <td>2022-06-15 18:54:10</td>\n",
       "      <td>Happiness</td>\n",
       "      <td>7</td>\n",
       "      <td>76.0</td>\n",
       "      <td>0.499936</td>\n",
       "      <td>NaN</td>\n",
       "    </tr>\n",
       "    <tr>\n",
       "      <th>8</th>\n",
       "      <td>0109_2</td>\n",
       "      <td>2022-06-15 18:54:15</td>\n",
       "      <td>Happiness</td>\n",
       "      <td>7</td>\n",
       "      <td>NaN</td>\n",
       "      <td>NaN</td>\n",
       "      <td>NaN</td>\n",
       "    </tr>\n",
       "  </tbody>\n",
       "</table>\n",
       "</div>"
      ],
      "text/plain": [
       "    SoundID            datetime    Emotion  Emotionrating  heart_rate  \\\n",
       "160  0085_2 2022-06-15 19:49:41    Sadness              1       102.0   \n",
       "160  0085_2 2022-06-15 19:49:53    Sadness              1         NaN   \n",
       "160  0085_2 2022-06-15 19:49:47    Sadness              1       103.0   \n",
       "8    0109_2 2022-06-15 18:54:10  Happiness              7        76.0   \n",
       "8    0109_2 2022-06-15 18:54:15  Happiness              7         NaN   \n",
       "\n",
       "     skin_temp  est_02_variation  \n",
       "160   1.539936               0.0  \n",
       "160        NaN               NaN  \n",
       "160   1.539936               0.0  \n",
       "8     0.499936               NaN  \n",
       "8          NaN               NaN  "
      ]
     },
     "execution_count": 26,
     "metadata": {},
     "output_type": "execute_result"
    }
   ],
   "source": [
    "df_research_dataset = pd.concat([df_research_dataset_1,df_research_dataset_2,df_research_dataset_3])\n",
    "df_research_dataset.sort_values(by=[\"SoundID\"], inplace=True)\n",
    "df_research_dataset.head()"
   ]
  },
  {
   "cell_type": "markdown",
   "metadata": {},
   "source": [
    "### Groupby the soundID and datetime"
   ]
  },
  {
   "cell_type": "code",
   "execution_count": 29,
   "metadata": {},
   "outputs": [
    {
     "data": {
      "text/html": [
       "<div>\n",
       "<style scoped>\n",
       "    .dataframe tbody tr th:only-of-type {\n",
       "        vertical-align: middle;\n",
       "    }\n",
       "\n",
       "    .dataframe tbody tr th {\n",
       "        vertical-align: top;\n",
       "    }\n",
       "\n",
       "    .dataframe thead th {\n",
       "        text-align: right;\n",
       "    }\n",
       "</style>\n",
       "<table border=\"1\" class=\"dataframe\">\n",
       "  <thead>\n",
       "    <tr style=\"text-align: right;\">\n",
       "      <th></th>\n",
       "      <th></th>\n",
       "      <th>Emotionrating</th>\n",
       "      <th>heart_rate</th>\n",
       "      <th>skin_temp</th>\n",
       "      <th>est_02_variation</th>\n",
       "    </tr>\n",
       "    <tr>\n",
       "      <th>SoundID</th>\n",
       "      <th>datetime</th>\n",
       "      <th></th>\n",
       "      <th></th>\n",
       "      <th></th>\n",
       "      <th></th>\n",
       "    </tr>\n",
       "  </thead>\n",
       "  <tbody>\n",
       "    <tr>\n",
       "      <th rowspan=\"3\" valign=\"top\">0319_2</th>\n",
       "      <th>2022-06-15 18:51:47</th>\n",
       "      <td>5.0</td>\n",
       "      <td>77.0</td>\n",
       "      <td>0.119936</td>\n",
       "      <td>NaN</td>\n",
       "    </tr>\n",
       "    <tr>\n",
       "      <th>2022-06-15 18:51:53</th>\n",
       "      <td>5.0</td>\n",
       "      <td>76.0</td>\n",
       "      <td>0.119936</td>\n",
       "      <td>NaN</td>\n",
       "    </tr>\n",
       "    <tr>\n",
       "      <th>2022-06-15 18:51:58</th>\n",
       "      <td>5.0</td>\n",
       "      <td>76.0</td>\n",
       "      <td>0.259936</td>\n",
       "      <td>NaN</td>\n",
       "    </tr>\n",
       "    <tr>\n",
       "      <th rowspan=\"2\" valign=\"top\">0617_2</th>\n",
       "      <th>2022-06-15 18:52:00</th>\n",
       "      <td>4.0</td>\n",
       "      <td>76.0</td>\n",
       "      <td>0.259936</td>\n",
       "      <td>NaN</td>\n",
       "    </tr>\n",
       "    <tr>\n",
       "      <th>2022-06-15 18:52:06</th>\n",
       "      <td>4.0</td>\n",
       "      <td>NaN</td>\n",
       "      <td>NaN</td>\n",
       "      <td>NaN</td>\n",
       "    </tr>\n",
       "  </tbody>\n",
       "</table>\n",
       "</div>"
      ],
      "text/plain": [
       "                             Emotionrating  heart_rate  skin_temp  \\\n",
       "SoundID datetime                                                    \n",
       "0319_2  2022-06-15 18:51:47            5.0        77.0   0.119936   \n",
       "        2022-06-15 18:51:53            5.0        76.0   0.119936   \n",
       "        2022-06-15 18:51:58            5.0        76.0   0.259936   \n",
       "0617_2  2022-06-15 18:52:00            4.0        76.0   0.259936   \n",
       "        2022-06-15 18:52:06            4.0         NaN        NaN   \n",
       "\n",
       "                             est_02_variation  \n",
       "SoundID datetime                               \n",
       "0319_2  2022-06-15 18:51:47               NaN  \n",
       "        2022-06-15 18:51:53               NaN  \n",
       "        2022-06-15 18:51:58               NaN  \n",
       "0617_2  2022-06-15 18:52:00               NaN  \n",
       "        2022-06-15 18:52:06               NaN  "
      ]
     },
     "execution_count": 29,
     "metadata": {},
     "output_type": "execute_result"
    }
   ],
   "source": [
    "df_research_dataset = df_research_dataset.groupby([\"SoundID\",\"datetime\"]).mean()\n",
    "df_research_dataset.sort_values(\"datetime\",inplace=True)\n",
    "df_research_dataset.head()"
   ]
  },
  {
   "cell_type": "markdown",
   "metadata": {},
   "source": [
    "### Derive statistical Features"
   ]
  },
  {
   "cell_type": "code",
   "execution_count": null,
   "metadata": {},
   "outputs": [],
   "source": []
  },
  {
   "cell_type": "code",
   "execution_count": 30,
   "metadata": {},
   "outputs": [
    {
     "name": "stdout",
     "output_type": "stream",
     "text": [
      "signal successfully saved\n"
     ]
    }
   ],
   "source": [
    "print(\"signal successfully saved\")\n",
    "df_research_dataset.to_csv('../df_research_dataset.csv')\n",
    "\n"
   ]
  }
 ],
 "metadata": {
  "kernelspec": {
   "display_name": "Python 3.9.13 ('venv': venv)",
   "language": "python",
   "name": "python3"
  },
  "language_info": {
   "codemirror_mode": {
    "name": "ipython",
    "version": 3
   },
   "file_extension": ".py",
   "mimetype": "text/x-python",
   "name": "python",
   "nbconvert_exporter": "python",
   "pygments_lexer": "ipython3",
   "version": "3.9.13"
  },
  "orig_nbformat": 4,
  "vscode": {
   "interpreter": {
    "hash": "1708efda55cb6d4aeb89181de40d53c5ba9d56028be66cf6cf1da196ab6b8121"
   }
  }
 },
 "nbformat": 4,
 "nbformat_minor": 2
}
